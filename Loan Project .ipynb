{
 "cells": [
  {
   "cell_type": "code",
   "execution_count": 1,
   "metadata": {
    "collapsed": false,
    "nbpresent": {
     "id": "4e17d371-cad3-4df0-bbc0-d9307a857d30"
    }
   },
   "outputs": [],
   "source": [
    "import pandas as pd \n",
    "import numpy as np\n",
    "import matplotlib.pyplot as plt\n",
    "%matplotlib inline\n",
    "import seaborn as sns\n",
    "sns.set_style('whitegrid')\n",
    "import xgboost as xgb"
   ]
  },
  {
   "cell_type": "code",
   "execution_count": 2,
   "metadata": {
    "collapsed": false,
    "nbpresent": {
     "id": "87e2bf35-ad3c-4fb4-bf25-accdc1721c49"
    }
   },
   "outputs": [
    {
     "name": "stderr",
     "output_type": "stream",
     "text": [
      "C:\\Users\\phong\\Anaconda2\\lib\\site-packages\\IPython\\core\\interactiveshell.py:2717: DtypeWarning: Columns (16) have mixed types. Specify dtype option on import or set low_memory=False.\n",
      "  interactivity=interactivity, compiler=compiler, result=result)\n"
     ]
    }
   ],
   "source": [
    "df = pd.read_csv('LoansTrainingSet - Copy.csv')"
   ]
  },
  {
   "cell_type": "code",
   "execution_count": 3,
   "metadata": {
    "collapsed": false,
    "nbpresent": {
     "id": "c708efa0-ea75-4846-99d1-154f614a3d66"
    }
   },
   "outputs": [
    {
     "data": {
      "text/html": [
       "<div>\n",
       "<table border=\"1\" class=\"dataframe\">\n",
       "  <thead>\n",
       "    <tr style=\"text-align: right;\">\n",
       "      <th></th>\n",
       "      <th>Loan ID</th>\n",
       "      <th>Customer ID</th>\n",
       "      <th>Loan Status</th>\n",
       "      <th>Current Loan Amount</th>\n",
       "      <th>Term</th>\n",
       "      <th>Credit Score</th>\n",
       "      <th>Years in current job</th>\n",
       "      <th>Home Ownership</th>\n",
       "      <th>Annual Income</th>\n",
       "      <th>Purpose</th>\n",
       "      <th>Monthly Debt</th>\n",
       "      <th>Years of Credit History</th>\n",
       "      <th>Months since last delinquent</th>\n",
       "      <th>Number of Open Accounts</th>\n",
       "      <th>Number of Credit Problems</th>\n",
       "      <th>Current Credit Balance</th>\n",
       "      <th>Maximum Open Credit</th>\n",
       "      <th>Bankruptcies</th>\n",
       "      <th>Tax Liens</th>\n",
       "    </tr>\n",
       "  </thead>\n",
       "  <tbody>\n",
       "    <tr>\n",
       "      <th>0</th>\n",
       "      <td>000025bb-5694-4cff-b17d-192b1a98ba44</td>\n",
       "      <td>5ebc8bb1-5eb9-4404-b11b-a6eebc401a19</td>\n",
       "      <td>Fully Paid</td>\n",
       "      <td>11520</td>\n",
       "      <td>Short Term</td>\n",
       "      <td>741.0</td>\n",
       "      <td>10+ years</td>\n",
       "      <td>Home Mortgage</td>\n",
       "      <td>33694.0</td>\n",
       "      <td>Debt Consolidation</td>\n",
       "      <td>$584.03</td>\n",
       "      <td>12.3</td>\n",
       "      <td>41.0</td>\n",
       "      <td>10</td>\n",
       "      <td>0</td>\n",
       "      <td>6760</td>\n",
       "      <td>16056</td>\n",
       "      <td>0.0</td>\n",
       "      <td>0.0</td>\n",
       "    </tr>\n",
       "    <tr>\n",
       "      <th>1</th>\n",
       "      <td>00002c49-3a29-4bd4-8f67-c8f8fbc1048c</td>\n",
       "      <td>927b388d-2e01-423f-a8dc-f7e42d668f46</td>\n",
       "      <td>Fully Paid</td>\n",
       "      <td>3441</td>\n",
       "      <td>Short Term</td>\n",
       "      <td>734.0</td>\n",
       "      <td>4 years</td>\n",
       "      <td>Home Mortgage</td>\n",
       "      <td>42269.0</td>\n",
       "      <td>other</td>\n",
       "      <td>$1,106.04</td>\n",
       "      <td>26.3</td>\n",
       "      <td>NaN</td>\n",
       "      <td>17</td>\n",
       "      <td>0</td>\n",
       "      <td>6262</td>\n",
       "      <td>19149</td>\n",
       "      <td>0.0</td>\n",
       "      <td>0.0</td>\n",
       "    </tr>\n",
       "    <tr>\n",
       "      <th>2</th>\n",
       "      <td>00002d89-27f3-409b-aa76-90834f359a65</td>\n",
       "      <td>defce609-c631-447d-aad6-1270615e89c4</td>\n",
       "      <td>Fully Paid</td>\n",
       "      <td>21029</td>\n",
       "      <td>Short Term</td>\n",
       "      <td>747.0</td>\n",
       "      <td>10+ years</td>\n",
       "      <td>Home Mortgage</td>\n",
       "      <td>90126.0</td>\n",
       "      <td>Debt Consolidation</td>\n",
       "      <td>$1,321.85</td>\n",
       "      <td>28.8</td>\n",
       "      <td>NaN</td>\n",
       "      <td>5</td>\n",
       "      <td>0</td>\n",
       "      <td>20967</td>\n",
       "      <td>28335</td>\n",
       "      <td>0.0</td>\n",
       "      <td>0.0</td>\n",
       "    </tr>\n",
       "    <tr>\n",
       "      <th>3</th>\n",
       "      <td>00005222-b4d8-45a4-ad8c-186057e24233</td>\n",
       "      <td>070bcecb-aae7-4485-a26a-e0403e7bb6c5</td>\n",
       "      <td>Fully Paid</td>\n",
       "      <td>18743</td>\n",
       "      <td>Short Term</td>\n",
       "      <td>747.0</td>\n",
       "      <td>10+ years</td>\n",
       "      <td>Own Home</td>\n",
       "      <td>38072.0</td>\n",
       "      <td>Debt Consolidation</td>\n",
       "      <td>$751.92</td>\n",
       "      <td>26.2</td>\n",
       "      <td>NaN</td>\n",
       "      <td>9</td>\n",
       "      <td>0</td>\n",
       "      <td>22529</td>\n",
       "      <td>43915</td>\n",
       "      <td>0.0</td>\n",
       "      <td>0.0</td>\n",
       "    </tr>\n",
       "    <tr>\n",
       "      <th>4</th>\n",
       "      <td>0000757f-a121-41ed-b17b-162e76647c1f</td>\n",
       "      <td>dde79588-12f0-4811-bab0-e2b07f633fcd</td>\n",
       "      <td>Fully Paid</td>\n",
       "      <td>11731</td>\n",
       "      <td>Short Term</td>\n",
       "      <td>746.0</td>\n",
       "      <td>4 years</td>\n",
       "      <td>Rent</td>\n",
       "      <td>50025.0</td>\n",
       "      <td>Debt Consolidation</td>\n",
       "      <td>$355.18</td>\n",
       "      <td>11.5</td>\n",
       "      <td>NaN</td>\n",
       "      <td>12</td>\n",
       "      <td>0</td>\n",
       "      <td>17391</td>\n",
       "      <td>37081</td>\n",
       "      <td>0.0</td>\n",
       "      <td>0.0</td>\n",
       "    </tr>\n",
       "  </tbody>\n",
       "</table>\n",
       "</div>"
      ],
      "text/plain": [
       "                                Loan ID                           Customer ID  \\\n",
       "0  000025bb-5694-4cff-b17d-192b1a98ba44  5ebc8bb1-5eb9-4404-b11b-a6eebc401a19   \n",
       "1  00002c49-3a29-4bd4-8f67-c8f8fbc1048c  927b388d-2e01-423f-a8dc-f7e42d668f46   \n",
       "2  00002d89-27f3-409b-aa76-90834f359a65  defce609-c631-447d-aad6-1270615e89c4   \n",
       "3  00005222-b4d8-45a4-ad8c-186057e24233  070bcecb-aae7-4485-a26a-e0403e7bb6c5   \n",
       "4  0000757f-a121-41ed-b17b-162e76647c1f  dde79588-12f0-4811-bab0-e2b07f633fcd   \n",
       "\n",
       "  Loan Status  Current Loan Amount        Term  Credit Score  \\\n",
       "0  Fully Paid                11520  Short Term         741.0   \n",
       "1  Fully Paid                 3441  Short Term         734.0   \n",
       "2  Fully Paid                21029  Short Term         747.0   \n",
       "3  Fully Paid                18743  Short Term         747.0   \n",
       "4  Fully Paid                11731  Short Term         746.0   \n",
       "\n",
       "  Years in current job Home Ownership  Annual Income             Purpose  \\\n",
       "0            10+ years  Home Mortgage        33694.0  Debt Consolidation   \n",
       "1              4 years  Home Mortgage        42269.0               other   \n",
       "2            10+ years  Home Mortgage        90126.0  Debt Consolidation   \n",
       "3            10+ years       Own Home        38072.0  Debt Consolidation   \n",
       "4              4 years           Rent        50025.0  Debt Consolidation   \n",
       "\n",
       "  Monthly Debt  Years of Credit History  Months since last delinquent  \\\n",
       "0      $584.03                     12.3                          41.0   \n",
       "1   $1,106.04                      26.3                           NaN   \n",
       "2   $1,321.85                      28.8                           NaN   \n",
       "3      $751.92                     26.2                           NaN   \n",
       "4      $355.18                     11.5                           NaN   \n",
       "\n",
       "   Number of Open Accounts  Number of Credit Problems  Current Credit Balance  \\\n",
       "0                       10                          0                    6760   \n",
       "1                       17                          0                    6262   \n",
       "2                        5                          0                   20967   \n",
       "3                        9                          0                   22529   \n",
       "4                       12                          0                   17391   \n",
       "\n",
       "  Maximum Open Credit  Bankruptcies  Tax Liens  \n",
       "0               16056           0.0        0.0  \n",
       "1               19149           0.0        0.0  \n",
       "2               28335           0.0        0.0  \n",
       "3               43915           0.0        0.0  \n",
       "4               37081           0.0        0.0  "
      ]
     },
     "execution_count": 3,
     "metadata": {},
     "output_type": "execute_result"
    }
   ],
   "source": [
    "df.head()"
   ]
  },
  {
   "cell_type": "code",
   "execution_count": 4,
   "metadata": {
    "collapsed": false,
    "nbpresent": {
     "id": "86a55502-ad3f-4cb3-a32e-d7bdbbd4aeeb"
    }
   },
   "outputs": [],
   "source": [
    "df.columns = [x.strip().replace(' ', '_') for x in df.columns]"
   ]
  },
  {
   "cell_type": "code",
   "execution_count": 5,
   "metadata": {
    "collapsed": false
   },
   "outputs": [
    {
     "data": {
      "text/plain": [
       "array(['Fully Paid', 'Charged Off'], dtype=object)"
      ]
     },
     "execution_count": 5,
     "metadata": {},
     "output_type": "execute_result"
    }
   ],
   "source": [
    "df.Loan_Status.unique()"
   ]
  },
  {
   "cell_type": "code",
   "execution_count": 6,
   "metadata": {
    "collapsed": false,
    "nbpresent": {
     "id": "29af9402-5748-49b3-9c74-2155af00ec03"
    }
   },
   "outputs": [],
   "source": [
    "df['Loan_Status'] = df['Loan_Status'].map( {'Charged Off': 0, 'Fully Paid': 1} ).astype(int)"
   ]
  },
  {
   "cell_type": "code",
   "execution_count": 7,
   "metadata": {
    "collapsed": false,
    "nbpresent": {
     "id": "38d1e651-6757-4a3a-9041-03a8b77a8189"
    }
   },
   "outputs": [
    {
     "name": "stdout",
     "output_type": "stream",
     "text": [
      "<class 'pandas.core.frame.DataFrame'>\n",
      "RangeIndex: 256984 entries, 0 to 256983\n",
      "Data columns (total 19 columns):\n",
      "Loan_ID                         256984 non-null object\n",
      "Customer_ID                     256984 non-null object\n",
      "Loan_Status                     256984 non-null int32\n",
      "Current_Loan_Amount             256984 non-null int64\n",
      "Term                            256984 non-null object\n",
      "Credit_Score                    195308 non-null float64\n",
      "Years_in_current_job            256984 non-null object\n",
      "Home_Ownership                  256984 non-null object\n",
      "Annual_Income                   195308 non-null float64\n",
      "Purpose                         256984 non-null object\n",
      "Monthly_Debt                    256984 non-null object\n",
      "Years_of_Credit_History         256984 non-null float64\n",
      "Months_since_last_delinquent    116601 non-null float64\n",
      "Number_of_Open_Accounts         256984 non-null int64\n",
      "Number_of_Credit_Problems       256984 non-null int64\n",
      "Current_Credit_Balance          256984 non-null int64\n",
      "Maximum_Open_Credit             256984 non-null object\n",
      "Bankruptcies                    256455 non-null float64\n",
      "Tax_Liens                       256961 non-null float64\n",
      "dtypes: float64(6), int32(1), int64(4), object(8)\n",
      "memory usage: 36.3+ MB\n"
     ]
    }
   ],
   "source": [
    "df.info()"
   ]
  },
  {
   "cell_type": "code",
   "execution_count": 8,
   "metadata": {
    "collapsed": false
   },
   "outputs": [
    {
     "data": {
      "text/plain": [
       "39180"
      ]
     },
     "execution_count": 8,
     "metadata": {},
     "output_type": "execute_result"
    }
   ],
   "source": [
    "len(df.set_index('Loan_ID').index.get_duplicates())"
   ]
  },
  {
   "cell_type": "code",
   "execution_count": 9,
   "metadata": {
    "collapsed": false
   },
   "outputs": [
    {
     "data": {
      "text/plain": [
       "39180"
      ]
     },
     "execution_count": 9,
     "metadata": {},
     "output_type": "execute_result"
    }
   ],
   "source": [
    "len(df.set_index('Customer_ID').index.get_duplicates())"
   ]
  },
  {
   "cell_type": "code",
   "execution_count": 10,
   "metadata": {
    "collapsed": false,
    "nbpresent": {
     "id": "73c92813-74a4-4f95-9b93-3813f91dcf0e"
    }
   },
   "outputs": [],
   "source": [
    "df.drop_duplicates(['Customer_ID'],keep='first',inplace=True)"
   ]
  },
  {
   "cell_type": "code",
   "execution_count": 11,
   "metadata": {
    "collapsed": false
   },
   "outputs": [
    {
     "data": {
      "text/plain": [
       "0"
      ]
     },
     "execution_count": 11,
     "metadata": {},
     "output_type": "execute_result"
    }
   ],
   "source": [
    "len(df.set_index('Customer_ID').index.get_duplicates())"
   ]
  },
  {
   "cell_type": "code",
   "execution_count": 12,
   "metadata": {
    "collapsed": false,
    "nbpresent": {
     "id": "81d9970d-0b6b-403f-ab12-677c2a551e4d"
    }
   },
   "outputs": [
    {
     "data": {
      "text/plain": [
       "(215700, 19)"
      ]
     },
     "execution_count": 12,
     "metadata": {},
     "output_type": "execute_result"
    }
   ],
   "source": [
    "df.shape"
   ]
  },
  {
   "cell_type": "code",
   "execution_count": 13,
   "metadata": {
    "collapsed": false
   },
   "outputs": [
    {
     "name": "stderr",
     "output_type": "stream",
     "text": [
      "C:\\Users\\phong\\Anaconda2\\lib\\site-packages\\numpy\\lib\\function_base.py:3834: RuntimeWarning: Invalid value encountered in percentile\n",
      "  RuntimeWarning)\n"
     ]
    },
    {
     "data": {
      "text/html": [
       "<div>\n",
       "<table border=\"1\" class=\"dataframe\">\n",
       "  <thead>\n",
       "    <tr style=\"text-align: right;\">\n",
       "      <th></th>\n",
       "      <th>Loan_Status</th>\n",
       "      <th>Current_Loan_Amount</th>\n",
       "      <th>Credit_Score</th>\n",
       "      <th>Annual_Income</th>\n",
       "      <th>Years_of_Credit_History</th>\n",
       "      <th>Months_since_last_delinquent</th>\n",
       "      <th>Number_of_Open_Accounts</th>\n",
       "      <th>Number_of_Credit_Problems</th>\n",
       "      <th>Current_Credit_Balance</th>\n",
       "      <th>Bankruptcies</th>\n",
       "      <th>Tax_Liens</th>\n",
       "    </tr>\n",
       "  </thead>\n",
       "  <tbody>\n",
       "    <tr>\n",
       "      <th>count</th>\n",
       "      <td>215700.000000</td>\n",
       "      <td>2.157000e+05</td>\n",
       "      <td>160692.000000</td>\n",
       "      <td>1.606920e+05</td>\n",
       "      <td>215700.000000</td>\n",
       "      <td>97438.000000</td>\n",
       "      <td>215700.000000</td>\n",
       "      <td>215700.000000</td>\n",
       "      <td>2.157000e+05</td>\n",
       "      <td>215248.000000</td>\n",
       "      <td>215678.000000</td>\n",
       "    </tr>\n",
       "    <tr>\n",
       "      <th>mean</th>\n",
       "      <td>0.816834</td>\n",
       "      <td>1.633515e+07</td>\n",
       "      <td>1297.840720</td>\n",
       "      <td>7.331651e+04</td>\n",
       "      <td>18.359758</td>\n",
       "      <td>35.031949</td>\n",
       "      <td>11.077566</td>\n",
       "      <td>0.155424</td>\n",
       "      <td>1.545722e+04</td>\n",
       "      <td>0.110556</td>\n",
       "      <td>0.026331</td>\n",
       "    </tr>\n",
       "    <tr>\n",
       "      <th>std</th>\n",
       "      <td>0.386609</td>\n",
       "      <td>3.695307e+07</td>\n",
       "      <td>1826.557335</td>\n",
       "      <td>5.820347e+04</td>\n",
       "      <td>7.057999</td>\n",
       "      <td>21.810714</td>\n",
       "      <td>4.971825</td>\n",
       "      <td>0.457972</td>\n",
       "      <td>1.975031e+04</td>\n",
       "      <td>0.336853</td>\n",
       "      <td>0.240853</td>\n",
       "    </tr>\n",
       "    <tr>\n",
       "      <th>min</th>\n",
       "      <td>0.000000</td>\n",
       "      <td>5.050000e+02</td>\n",
       "      <td>585.000000</td>\n",
       "      <td>4.033000e+03</td>\n",
       "      <td>3.400000</td>\n",
       "      <td>0.000000</td>\n",
       "      <td>0.000000</td>\n",
       "      <td>0.000000</td>\n",
       "      <td>0.000000e+00</td>\n",
       "      <td>0.000000</td>\n",
       "      <td>0.000000</td>\n",
       "    </tr>\n",
       "    <tr>\n",
       "      <th>25%</th>\n",
       "      <td>1.000000</td>\n",
       "      <td>8.328750e+03</td>\n",
       "      <td>NaN</td>\n",
       "      <td>NaN</td>\n",
       "      <td>13.600000</td>\n",
       "      <td>NaN</td>\n",
       "      <td>8.000000</td>\n",
       "      <td>0.000000</td>\n",
       "      <td>5.933000e+03</td>\n",
       "      <td>NaN</td>\n",
       "      <td>NaN</td>\n",
       "    </tr>\n",
       "    <tr>\n",
       "      <th>50%</th>\n",
       "      <td>1.000000</td>\n",
       "      <td>1.464200e+04</td>\n",
       "      <td>NaN</td>\n",
       "      <td>NaN</td>\n",
       "      <td>17.000000</td>\n",
       "      <td>NaN</td>\n",
       "      <td>10.000000</td>\n",
       "      <td>0.000000</td>\n",
       "      <td>1.104200e+04</td>\n",
       "      <td>NaN</td>\n",
       "      <td>NaN</td>\n",
       "    </tr>\n",
       "    <tr>\n",
       "      <th>75%</th>\n",
       "      <td>1.000000</td>\n",
       "      <td>2.520800e+04</td>\n",
       "      <td>NaN</td>\n",
       "      <td>NaN</td>\n",
       "      <td>21.800000</td>\n",
       "      <td>NaN</td>\n",
       "      <td>14.000000</td>\n",
       "      <td>0.000000</td>\n",
       "      <td>1.932400e+04</td>\n",
       "      <td>NaN</td>\n",
       "      <td>NaN</td>\n",
       "    </tr>\n",
       "    <tr>\n",
       "      <th>max</th>\n",
       "      <td>1.000000</td>\n",
       "      <td>1.000000e+08</td>\n",
       "      <td>7510.000000</td>\n",
       "      <td>8.713547e+06</td>\n",
       "      <td>70.500000</td>\n",
       "      <td>176.000000</td>\n",
       "      <td>76.000000</td>\n",
       "      <td>11.000000</td>\n",
       "      <td>1.731412e+06</td>\n",
       "      <td>7.000000</td>\n",
       "      <td>11.000000</td>\n",
       "    </tr>\n",
       "  </tbody>\n",
       "</table>\n",
       "</div>"
      ],
      "text/plain": [
       "         Loan_Status  Current_Loan_Amount   Credit_Score  Annual_Income  \\\n",
       "count  215700.000000         2.157000e+05  160692.000000   1.606920e+05   \n",
       "mean        0.816834         1.633515e+07    1297.840720   7.331651e+04   \n",
       "std         0.386609         3.695307e+07    1826.557335   5.820347e+04   \n",
       "min         0.000000         5.050000e+02     585.000000   4.033000e+03   \n",
       "25%         1.000000         8.328750e+03            NaN            NaN   \n",
       "50%         1.000000         1.464200e+04            NaN            NaN   \n",
       "75%         1.000000         2.520800e+04            NaN            NaN   \n",
       "max         1.000000         1.000000e+08    7510.000000   8.713547e+06   \n",
       "\n",
       "       Years_of_Credit_History  Months_since_last_delinquent  \\\n",
       "count            215700.000000                  97438.000000   \n",
       "mean                 18.359758                     35.031949   \n",
       "std                   7.057999                     21.810714   \n",
       "min                   3.400000                      0.000000   \n",
       "25%                  13.600000                           NaN   \n",
       "50%                  17.000000                           NaN   \n",
       "75%                  21.800000                           NaN   \n",
       "max                  70.500000                    176.000000   \n",
       "\n",
       "       Number_of_Open_Accounts  Number_of_Credit_Problems  \\\n",
       "count            215700.000000              215700.000000   \n",
       "mean                 11.077566                   0.155424   \n",
       "std                   4.971825                   0.457972   \n",
       "min                   0.000000                   0.000000   \n",
       "25%                   8.000000                   0.000000   \n",
       "50%                  10.000000                   0.000000   \n",
       "75%                  14.000000                   0.000000   \n",
       "max                  76.000000                  11.000000   \n",
       "\n",
       "       Current_Credit_Balance   Bankruptcies      Tax_Liens  \n",
       "count            2.157000e+05  215248.000000  215678.000000  \n",
       "mean             1.545722e+04       0.110556       0.026331  \n",
       "std              1.975031e+04       0.336853       0.240853  \n",
       "min              0.000000e+00       0.000000       0.000000  \n",
       "25%              5.933000e+03            NaN            NaN  \n",
       "50%              1.104200e+04            NaN            NaN  \n",
       "75%              1.932400e+04            NaN            NaN  \n",
       "max              1.731412e+06       7.000000      11.000000  "
      ]
     },
     "execution_count": 13,
     "metadata": {},
     "output_type": "execute_result"
    }
   ],
   "source": [
    "df.describe()"
   ]
  },
  {
   "cell_type": "code",
   "execution_count": 14,
   "metadata": {
    "collapsed": false,
    "nbpresent": {
     "id": "81803b2b-fb84-4016-b194-54c6072df973"
    }
   },
   "outputs": [
    {
     "data": {
      "text/plain": [
       "array(['Short Term', 'Long Term'], dtype=object)"
      ]
     },
     "execution_count": 14,
     "metadata": {},
     "output_type": "execute_result"
    }
   ],
   "source": [
    "df.Term.unique()"
   ]
  },
  {
   "cell_type": "code",
   "execution_count": 15,
   "metadata": {
    "collapsed": false
   },
   "outputs": [
    {
     "data": {
      "text/plain": [
       "<seaborn.axisgrid.FacetGrid at 0x112ce940>"
      ]
     },
     "execution_count": 15,
     "metadata": {},
     "output_type": "execute_result"
    },
    {
     "data": {
      "image/png": "[encoded data removed]",
      "text/plain": [
       "<matplotlib.figure.Figure at 0x1061dd68>"
      ]
     },
     "metadata": {},
     "output_type": "display_data"
    }
   ],
   "source": [
    "sns.factorplot('Term','Loan_Status', data=df,size=4,aspect=3)"
   ]
  },
  {
   "cell_type": "code",
   "execution_count": 16,
   "metadata": {
    "collapsed": true
   },
   "outputs": [],
   "source": [
    "df['Term'] = df['Term'].map( {'Short Term': 0, 'Long Term': 1} ).astype(int)"
   ]
  },
  {
   "cell_type": "code",
   "execution_count": 17,
   "metadata": {
    "collapsed": false,
    "nbpresent": {
     "id": "9637d5cd-3af1-45af-a44c-217c113104ec"
    }
   },
   "outputs": [
    {
     "data": {
      "text/plain": [
       "array(['10+ years', '4 years', '6 years', '5 years', 'n/a', '3 years',\n",
       "       '2 years', '< 1 year', '1 year', '7 years', '9 years', '8 years'], dtype=object)"
      ]
     },
     "execution_count": 17,
     "metadata": {},
     "output_type": "execute_result"
    }
   ],
   "source": [
    "df.Years_in_current_job .unique()"
   ]
  },
  {
   "cell_type": "code",
   "execution_count": 18,
   "metadata": {
    "collapsed": false
   },
   "outputs": [],
   "source": [
    "df['Years_in_current_job'] = df['Years_in_current_job'].map( {'10+ years':11, '4 years':4, '6 years':6, '5 years':5, 'n/a':np.nan, \n",
    "                                                              '3 years':3,'2 years':2, '< 1 year':0, '1 year':1, '7 years':7, \n",
    "                                                              '9 years':9, '8 years':8} )"
   ]
  },
  {
   "cell_type": "code",
   "execution_count": 19,
   "metadata": {
    "collapsed": false,
    "nbpresent": {
     "id": "73d9b076-fd92-4d89-8828-6399baf8951d"
    }
   },
   "outputs": [
    {
     "data": {
      "text/plain": [
       "array(['Home Mortgage', 'Own Home', 'Rent', 'HaveMortgage'], dtype=object)"
      ]
     },
     "execution_count": 19,
     "metadata": {},
     "output_type": "execute_result"
    }
   ],
   "source": [
    "df.Home_Ownership.unique()"
   ]
  },
  {
   "cell_type": "code",
   "execution_count": 20,
   "metadata": {
    "collapsed": false,
    "nbpresent": {
     "id": "0760e65a-bea5-4c15-baa2-787cf39d5328"
    }
   },
   "outputs": [],
   "source": [
    "df['Home_Ownership'] = df['Home_Ownership'].str.replace('Home Mortgage','HaveMortgage')"
   ]
  },
  {
   "cell_type": "code",
   "execution_count": 21,
   "metadata": {
    "collapsed": false
   },
   "outputs": [
    {
     "data": {
      "text/plain": [
       "<matplotlib.axes._subplots.AxesSubplot at 0x10a6bfd0>"
      ]
     },
     "execution_count": 21,
     "metadata": {},
     "output_type": "execute_result"
    },
    {
     "data": {
      "image/png": "[encoded data removed]",
      "text/plain": [
       "<matplotlib.figure.Figure at 0x11f44208>"
      ]
     },
     "metadata": {},
     "output_type": "display_data"
    }
   ],
   "source": [
    "fig, (axis1,axis2,axis3) = plt.subplots(1,3,figsize=(15,7))\n",
    "sns.countplot(x='Home_Ownership', data=df, ax=axis1)\n",
    "sns.countplot(x='Loan_Status', hue=\"Home_Ownership\", data=df, order=[0,1], ax=axis2)\n",
    "mean_ownership = df[[\"Home_Ownership\", \"Loan_Status\"]].groupby(['Home_Ownership'],as_index=False).mean()\n",
    "sns.barplot(x='Home_Ownership', y='Loan_Status', data=mean_ownership,order=['HaveMortgage','Own Home','Rent'],ax=axis3)"
   ]
  },
  {
   "cell_type": "code",
   "execution_count": 22,
   "metadata": {
    "collapsed": false,
    "nbpresent": {
     "id": "2a5ed51b-9af7-49f5-b121-33a6a6c4eeb3"
    }
   },
   "outputs": [
    {
     "data": {
      "text/plain": [
       "array(['Debt Consolidation', 'other', 'Business Loan', 'Home Improvements',\n",
       "       'Buy House', 'Other', 'Buy a Car', 'Medical Bills', 'Take a Trip',\n",
       "       'Educational Expenses'], dtype=object)"
      ]
     },
     "execution_count": 22,
     "metadata": {},
     "output_type": "execute_result"
    }
   ],
   "source": [
    "# other and Other are different, fix them \n",
    "df.Purpose.unique()"
   ]
  },
  {
   "cell_type": "code",
   "execution_count": 23,
   "metadata": {
    "collapsed": true,
    "nbpresent": {
     "id": "d5ff1dc2-7b26-4ea2-a027-491be82571ab"
    }
   },
   "outputs": [],
   "source": [
    "df['Purpose'] = df['Purpose'].str.replace('other','Other')"
   ]
  },
  {
   "cell_type": "code",
   "execution_count": 24,
   "metadata": {
    "collapsed": false
   },
   "outputs": [
    {
     "data": {
      "text/plain": [
       "<matplotlib.axes._subplots.AxesSubplot at 0x133b8d68>"
      ]
     },
     "execution_count": 24,
     "metadata": {},
     "output_type": "execute_result"
    },
    {
     "data": {
      "image/png": "[encoded data removed]",
      "text/plain": [
       "<matplotlib.figure.Figure at 0x133c6940>"
      ]
     },
     "metadata": {},
     "output_type": "display_data"
    }
   ],
   "source": [
    "fig, (axis1) = plt.subplots(1,1,figsize=(17,6))\n",
    "sns.countplot(x='Purpose', data=df,ax=axis1)"
   ]
  },
  {
   "cell_type": "code",
   "execution_count": 25,
   "metadata": {
    "collapsed": false
   },
   "outputs": [
    {
     "data": {
      "text/plain": [
       "<matplotlib.axes._subplots.AxesSubplot at 0x133c6b70>"
      ]
     },
     "execution_count": 25,
     "metadata": {},
     "output_type": "execute_result"
    },
    {
     "data": {
      "image/png": "[encoded data removed]",
      "text/plain": [
       "<matplotlib.figure.Figure at 0x1f51e588>"
      ]
     },
     "metadata": {},
     "output_type": "display_data"
    }
   ],
   "source": [
    "fig,(axis1) = plt.subplots(1,1,figsize=(15,7))\n",
    "sns.countplot(x='Loan_Status', hue=\"Purpose\", data=df, order=[0,1], ax=axis1)"
   ]
  },
  {
   "cell_type": "code",
   "execution_count": 26,
   "metadata": {
    "collapsed": false
   },
   "outputs": [
    {
     "data": {
      "text/plain": [
       "<matplotlib.axes._subplots.AxesSubplot at 0x1d186080>"
      ]
     },
     "execution_count": 26,
     "metadata": {},
     "output_type": "execute_result"
    },
    {
     "data": {
      "image/png": "[encoded data removed]",
      "text/plain": [
       "<matplotlib.figure.Figure at 0x13e04fd0>"
      ]
     },
     "metadata": {},
     "output_type": "display_data"
    }
   ],
   "source": [
    "fig,(axis1) = plt.subplots(1,1,figsize=(15,7))\n",
    "mean_purpose = df[[\"Purpose\", \"Loan_Status\"]].groupby(['Purpose'],as_index=False).mean()\n",
    "sns.barplot(x='Purpose', y='Loan_Status', data=mean_purpose,order=['Debt Consolidation', \n",
    "         'Business Loan', 'Home Improvements','Buy House', 'Other', 'Buy a Car', \n",
    "        'Medical Bills', 'Take a Trip',\n",
    "       'Educational Expenses'],ax=axis1)"
   ]
  },
  {
   "cell_type": "code",
   "execution_count": 27,
   "metadata": {
    "collapsed": false,
    "nbpresent": {
     "id": "93a251c4-5c61-482c-a58b-2ccbfdab8055"
    }
   },
   "outputs": [],
   "source": [
    "df['Monthly_Debt'] = df['Monthly_Debt'].map(lambda x: x.lstrip('$').replace(',','')).astype(float)"
   ]
  },
  {
   "cell_type": "code",
   "execution_count": 28,
   "metadata": {
    "collapsed": false
   },
   "outputs": [
    {
     "name": "stdout",
     "output_type": "stream",
     "text": [
      "<class 'pandas.core.frame.DataFrame'>\n",
      "Int64Index: 215700 entries, 0 to 256983\n",
      "Data columns (total 19 columns):\n",
      "Loan_ID                         215700 non-null object\n",
      "Customer_ID                     215700 non-null object\n",
      "Loan_Status                     215700 non-null int32\n",
      "Current_Loan_Amount             215700 non-null int64\n",
      "Term                            215700 non-null int32\n",
      "Credit_Score                    160692 non-null float64\n",
      "Years_in_current_job            206710 non-null float64\n",
      "Home_Ownership                  215700 non-null object\n",
      "Annual_Income                   160692 non-null float64\n",
      "Purpose                         215700 non-null object\n",
      "Monthly_Debt                    215700 non-null float64\n",
      "Years_of_Credit_History         215700 non-null float64\n",
      "Months_since_last_delinquent    97438 non-null float64\n",
      "Number_of_Open_Accounts         215700 non-null int64\n",
      "Number_of_Credit_Problems       215700 non-null int64\n",
      "Current_Credit_Balance          215700 non-null int64\n",
      "Maximum_Open_Credit             215700 non-null object\n",
      "Bankruptcies                    215248 non-null float64\n",
      "Tax_Liens                       215678 non-null float64\n",
      "dtypes: float64(8), int32(2), int64(4), object(5)\n",
      "memory usage: 31.3+ MB\n"
     ]
    }
   ],
   "source": [
    "df.info()"
   ]
  },
  {
   "cell_type": "code",
   "execution_count": 29,
   "metadata": {
    "collapsed": false
   },
   "outputs": [
    {
     "data": {
      "text/html": [
       "<div>\n",
       "<table border=\"1\" class=\"dataframe\">\n",
       "  <thead>\n",
       "    <tr style=\"text-align: right;\">\n",
       "      <th></th>\n",
       "      <th>Loan_ID</th>\n",
       "      <th>Customer_ID</th>\n",
       "      <th>Loan_Status</th>\n",
       "      <th>Current_Loan_Amount</th>\n",
       "      <th>Term</th>\n",
       "      <th>Credit_Score</th>\n",
       "      <th>Years_in_current_job</th>\n",
       "      <th>Home_Ownership</th>\n",
       "      <th>Annual_Income</th>\n",
       "      <th>Purpose</th>\n",
       "      <th>Monthly_Debt</th>\n",
       "      <th>Years_of_Credit_History</th>\n",
       "      <th>Months_since_last_delinquent</th>\n",
       "      <th>Number_of_Open_Accounts</th>\n",
       "      <th>Number_of_Credit_Problems</th>\n",
       "      <th>Current_Credit_Balance</th>\n",
       "      <th>Maximum_Open_Credit</th>\n",
       "      <th>Bankruptcies</th>\n",
       "      <th>Tax_Liens</th>\n",
       "    </tr>\n",
       "  </thead>\n",
       "  <tbody>\n",
       "    <tr>\n",
       "      <th>0</th>\n",
       "      <td>000025bb-5694-4cff-b17d-192b1a98ba44</td>\n",
       "      <td>5ebc8bb1-5eb9-4404-b11b-a6eebc401a19</td>\n",
       "      <td>1</td>\n",
       "      <td>11520</td>\n",
       "      <td>0</td>\n",
       "      <td>741.0</td>\n",
       "      <td>11.0</td>\n",
       "      <td>HaveMortgage</td>\n",
       "      <td>33694.0</td>\n",
       "      <td>Debt Consolidation</td>\n",
       "      <td>584.03</td>\n",
       "      <td>12.3</td>\n",
       "      <td>41.0</td>\n",
       "      <td>10</td>\n",
       "      <td>0</td>\n",
       "      <td>6760</td>\n",
       "      <td>16056</td>\n",
       "      <td>0.0</td>\n",
       "      <td>0.0</td>\n",
       "    </tr>\n",
       "    <tr>\n",
       "      <th>1</th>\n",
       "      <td>00002c49-3a29-4bd4-8f67-c8f8fbc1048c</td>\n",
       "      <td>927b388d-2e01-423f-a8dc-f7e42d668f46</td>\n",
       "      <td>1</td>\n",
       "      <td>3441</td>\n",
       "      <td>0</td>\n",
       "      <td>734.0</td>\n",
       "      <td>4.0</td>\n",
       "      <td>HaveMortgage</td>\n",
       "      <td>42269.0</td>\n",
       "      <td>Other</td>\n",
       "      <td>1106.04</td>\n",
       "      <td>26.3</td>\n",
       "      <td>NaN</td>\n",
       "      <td>17</td>\n",
       "      <td>0</td>\n",
       "      <td>6262</td>\n",
       "      <td>19149</td>\n",
       "      <td>0.0</td>\n",
       "      <td>0.0</td>\n",
       "    </tr>\n",
       "    <tr>\n",
       "      <th>2</th>\n",
       "      <td>00002d89-27f3-409b-aa76-90834f359a65</td>\n",
       "      <td>defce609-c631-447d-aad6-1270615e89c4</td>\n",
       "      <td>1</td>\n",
       "      <td>21029</td>\n",
       "      <td>0</td>\n",
       "      <td>747.0</td>\n",
       "      <td>11.0</td>\n",
       "      <td>HaveMortgage</td>\n",
       "      <td>90126.0</td>\n",
       "      <td>Debt Consolidation</td>\n",
       "      <td>1321.85</td>\n",
       "      <td>28.8</td>\n",
       "      <td>NaN</td>\n",
       "      <td>5</td>\n",
       "      <td>0</td>\n",
       "      <td>20967</td>\n",
       "      <td>28335</td>\n",
       "      <td>0.0</td>\n",
       "      <td>0.0</td>\n",
       "    </tr>\n",
       "    <tr>\n",
       "      <th>3</th>\n",
       "      <td>00005222-b4d8-45a4-ad8c-186057e24233</td>\n",
       "      <td>070bcecb-aae7-4485-a26a-e0403e7bb6c5</td>\n",
       "      <td>1</td>\n",
       "      <td>18743</td>\n",
       "      <td>0</td>\n",
       "      <td>747.0</td>\n",
       "      <td>11.0</td>\n",
       "      <td>Own Home</td>\n",
       "      <td>38072.0</td>\n",
       "      <td>Debt Consolidation</td>\n",
       "      <td>751.92</td>\n",
       "      <td>26.2</td>\n",
       "      <td>NaN</td>\n",
       "      <td>9</td>\n",
       "      <td>0</td>\n",
       "      <td>22529</td>\n",
       "      <td>43915</td>\n",
       "      <td>0.0</td>\n",
       "      <td>0.0</td>\n",
       "    </tr>\n",
       "    <tr>\n",
       "      <th>4</th>\n",
       "      <td>0000757f-a121-41ed-b17b-162e76647c1f</td>\n",
       "      <td>dde79588-12f0-4811-bab0-e2b07f633fcd</td>\n",
       "      <td>1</td>\n",
       "      <td>11731</td>\n",
       "      <td>0</td>\n",
       "      <td>746.0</td>\n",
       "      <td>4.0</td>\n",
       "      <td>Rent</td>\n",
       "      <td>50025.0</td>\n",
       "      <td>Debt Consolidation</td>\n",
       "      <td>355.18</td>\n",
       "      <td>11.5</td>\n",
       "      <td>NaN</td>\n",
       "      <td>12</td>\n",
       "      <td>0</td>\n",
       "      <td>17391</td>\n",
       "      <td>37081</td>\n",
       "      <td>0.0</td>\n",
       "      <td>0.0</td>\n",
       "    </tr>\n",
       "  </tbody>\n",
       "</table>\n",
       "</div>"
      ],
      "text/plain": [
       "                                Loan_ID                           Customer_ID  \\\n",
       "0  000025bb-5694-4cff-b17d-192b1a98ba44  5ebc8bb1-5eb9-4404-b11b-a6eebc401a19   \n",
       "1  00002c49-3a29-4bd4-8f67-c8f8fbc1048c  927b388d-2e01-423f-a8dc-f7e42d668f46   \n",
       "2  00002d89-27f3-409b-aa76-90834f359a65  defce609-c631-447d-aad6-1270615e89c4   \n",
       "3  00005222-b4d8-45a4-ad8c-186057e24233  070bcecb-aae7-4485-a26a-e0403e7bb6c5   \n",
       "4  0000757f-a121-41ed-b17b-162e76647c1f  dde79588-12f0-4811-bab0-e2b07f633fcd   \n",
       "\n",
       "   Loan_Status  Current_Loan_Amount  Term  Credit_Score  Years_in_current_job  \\\n",
       "0            1                11520     0         741.0                  11.0   \n",
       "1            1                 3441     0         734.0                   4.0   \n",
       "2            1                21029     0         747.0                  11.0   \n",
       "3            1                18743     0         747.0                  11.0   \n",
       "4            1                11731     0         746.0                   4.0   \n",
       "\n",
       "  Home_Ownership  Annual_Income             Purpose  Monthly_Debt  \\\n",
       "0   HaveMortgage        33694.0  Debt Consolidation        584.03   \n",
       "1   HaveMortgage        42269.0               Other       1106.04   \n",
       "2   HaveMortgage        90126.0  Debt Consolidation       1321.85   \n",
       "3       Own Home        38072.0  Debt Consolidation        751.92   \n",
       "4           Rent        50025.0  Debt Consolidation        355.18   \n",
       "\n",
       "   Years_of_Credit_History  Months_since_last_delinquent  \\\n",
       "0                     12.3                          41.0   \n",
       "1                     26.3                           NaN   \n",
       "2                     28.8                           NaN   \n",
       "3                     26.2                           NaN   \n",
       "4                     11.5                           NaN   \n",
       "\n",
       "   Number_of_Open_Accounts  Number_of_Credit_Problems  Current_Credit_Balance  \\\n",
       "0                       10                          0                    6760   \n",
       "1                       17                          0                    6262   \n",
       "2                        5                          0                   20967   \n",
       "3                        9                          0                   22529   \n",
       "4                       12                          0                   17391   \n",
       "\n",
       "  Maximum_Open_Credit  Bankruptcies  Tax_Liens  \n",
       "0               16056           0.0        0.0  \n",
       "1               19149           0.0        0.0  \n",
       "2               28335           0.0        0.0  \n",
       "3               43915           0.0        0.0  \n",
       "4               37081           0.0        0.0  "
      ]
     },
     "execution_count": 29,
     "metadata": {},
     "output_type": "execute_result"
    }
   ],
   "source": [
    "df.head()"
   ]
  },
  {
   "cell_type": "code",
   "execution_count": 30,
   "metadata": {
    "collapsed": false
   },
   "outputs": [
    {
     "data": {
      "text/html": [
       "<div>\n",
       "<table border=\"1\" class=\"dataframe\">\n",
       "  <thead>\n",
       "    <tr style=\"text-align: right;\">\n",
       "      <th></th>\n",
       "      <th>Loan_Status</th>\n",
       "      <th>Current_Loan_Amount</th>\n",
       "      <th>Term</th>\n",
       "      <th>Credit_Score</th>\n",
       "      <th>Years_in_current_job</th>\n",
       "      <th>Annual_Income</th>\n",
       "      <th>Monthly_Debt</th>\n",
       "      <th>Years_of_Credit_History</th>\n",
       "      <th>Months_since_last_delinquent</th>\n",
       "      <th>Number_of_Open_Accounts</th>\n",
       "      <th>Number_of_Credit_Problems</th>\n",
       "      <th>Current_Credit_Balance</th>\n",
       "      <th>Bankruptcies</th>\n",
       "      <th>Tax_Liens</th>\n",
       "    </tr>\n",
       "  </thead>\n",
       "  <tbody>\n",
       "    <tr>\n",
       "      <th>count</th>\n",
       "      <td>215700.000000</td>\n",
       "      <td>2.157000e+05</td>\n",
       "      <td>215700.000000</td>\n",
       "      <td>160692.000000</td>\n",
       "      <td>206710.000000</td>\n",
       "      <td>1.606920e+05</td>\n",
       "      <td>215700.000000</td>\n",
       "      <td>215700.000000</td>\n",
       "      <td>97438.000000</td>\n",
       "      <td>215700.000000</td>\n",
       "      <td>215700.000000</td>\n",
       "      <td>2.157000e+05</td>\n",
       "      <td>215248.000000</td>\n",
       "      <td>215678.000000</td>\n",
       "    </tr>\n",
       "    <tr>\n",
       "      <th>mean</th>\n",
       "      <td>0.816834</td>\n",
       "      <td>1.633515e+07</td>\n",
       "      <td>0.227988</td>\n",
       "      <td>1297.840720</td>\n",
       "      <td>6.197257</td>\n",
       "      <td>7.331651e+04</td>\n",
       "      <td>960.396602</td>\n",
       "      <td>18.359758</td>\n",
       "      <td>35.031949</td>\n",
       "      <td>11.077566</td>\n",
       "      <td>0.155424</td>\n",
       "      <td>1.545722e+04</td>\n",
       "      <td>0.110556</td>\n",
       "      <td>0.026331</td>\n",
       "    </tr>\n",
       "    <tr>\n",
       "      <th>std</th>\n",
       "      <td>0.386609</td>\n",
       "      <td>3.695307e+07</td>\n",
       "      <td>0.419635</td>\n",
       "      <td>1826.557335</td>\n",
       "      <td>4.004819</td>\n",
       "      <td>5.820347e+04</td>\n",
       "      <td>634.782724</td>\n",
       "      <td>7.057999</td>\n",
       "      <td>21.810714</td>\n",
       "      <td>4.971825</td>\n",
       "      <td>0.457972</td>\n",
       "      <td>1.975031e+04</td>\n",
       "      <td>0.336853</td>\n",
       "      <td>0.240853</td>\n",
       "    </tr>\n",
       "    <tr>\n",
       "      <th>min</th>\n",
       "      <td>0.000000</td>\n",
       "      <td>5.050000e+02</td>\n",
       "      <td>0.000000</td>\n",
       "      <td>585.000000</td>\n",
       "      <td>0.000000</td>\n",
       "      <td>4.033000e+03</td>\n",
       "      <td>0.000000</td>\n",
       "      <td>3.400000</td>\n",
       "      <td>0.000000</td>\n",
       "      <td>0.000000</td>\n",
       "      <td>0.000000</td>\n",
       "      <td>0.000000e+00</td>\n",
       "      <td>0.000000</td>\n",
       "      <td>0.000000</td>\n",
       "    </tr>\n",
       "    <tr>\n",
       "      <th>25%</th>\n",
       "      <td>1.000000</td>\n",
       "      <td>8.328750e+03</td>\n",
       "      <td>0.000000</td>\n",
       "      <td>NaN</td>\n",
       "      <td>NaN</td>\n",
       "      <td>NaN</td>\n",
       "      <td>527.647500</td>\n",
       "      <td>13.600000</td>\n",
       "      <td>NaN</td>\n",
       "      <td>8.000000</td>\n",
       "      <td>0.000000</td>\n",
       "      <td>5.933000e+03</td>\n",
       "      <td>NaN</td>\n",
       "      <td>NaN</td>\n",
       "    </tr>\n",
       "    <tr>\n",
       "      <th>50%</th>\n",
       "      <td>1.000000</td>\n",
       "      <td>1.464200e+04</td>\n",
       "      <td>0.000000</td>\n",
       "      <td>NaN</td>\n",
       "      <td>NaN</td>\n",
       "      <td>NaN</td>\n",
       "      <td>840.550000</td>\n",
       "      <td>17.000000</td>\n",
       "      <td>NaN</td>\n",
       "      <td>10.000000</td>\n",
       "      <td>0.000000</td>\n",
       "      <td>1.104200e+04</td>\n",
       "      <td>NaN</td>\n",
       "      <td>NaN</td>\n",
       "    </tr>\n",
       "    <tr>\n",
       "      <th>75%</th>\n",
       "      <td>1.000000</td>\n",
       "      <td>2.520800e+04</td>\n",
       "      <td>0.000000</td>\n",
       "      <td>NaN</td>\n",
       "      <td>NaN</td>\n",
       "      <td>NaN</td>\n",
       "      <td>1249.962500</td>\n",
       "      <td>21.800000</td>\n",
       "      <td>NaN</td>\n",
       "      <td>14.000000</td>\n",
       "      <td>0.000000</td>\n",
       "      <td>1.932400e+04</td>\n",
       "      <td>NaN</td>\n",
       "      <td>NaN</td>\n",
       "    </tr>\n",
       "    <tr>\n",
       "      <th>max</th>\n",
       "      <td>1.000000</td>\n",
       "      <td>1.000000e+08</td>\n",
       "      <td>1.000000</td>\n",
       "      <td>7510.000000</td>\n",
       "      <td>11.000000</td>\n",
       "      <td>8.713547e+06</td>\n",
       "      <td>22939.120000</td>\n",
       "      <td>70.500000</td>\n",
       "      <td>176.000000</td>\n",
       "      <td>76.000000</td>\n",
       "      <td>11.000000</td>\n",
       "      <td>1.731412e+06</td>\n",
       "      <td>7.000000</td>\n",
       "      <td>11.000000</td>\n",
       "    </tr>\n",
       "  </tbody>\n",
       "</table>\n",
       "</div>"
      ],
      "text/plain": [
       "         Loan_Status  Current_Loan_Amount           Term   Credit_Score  \\\n",
       "count  215700.000000         2.157000e+05  215700.000000  160692.000000   \n",
       "mean        0.816834         1.633515e+07       0.227988    1297.840720   \n",
       "std         0.386609         3.695307e+07       0.419635    1826.557335   \n",
       "min         0.000000         5.050000e+02       0.000000     585.000000   \n",
       "25%         1.000000         8.328750e+03       0.000000            NaN   \n",
       "50%         1.000000         1.464200e+04       0.000000            NaN   \n",
       "75%         1.000000         2.520800e+04       0.000000            NaN   \n",
       "max         1.000000         1.000000e+08       1.000000    7510.000000   \n",
       "\n",
       "       Years_in_current_job  Annual_Income   Monthly_Debt  \\\n",
       "count         206710.000000   1.606920e+05  215700.000000   \n",
       "mean               6.197257   7.331651e+04     960.396602   \n",
       "std                4.004819   5.820347e+04     634.782724   \n",
       "min                0.000000   4.033000e+03       0.000000   \n",
       "25%                     NaN            NaN     527.647500   \n",
       "50%                     NaN            NaN     840.550000   \n",
       "75%                     NaN            NaN    1249.962500   \n",
       "max               11.000000   8.713547e+06   22939.120000   \n",
       "\n",
       "       Years_of_Credit_History  Months_since_last_delinquent  \\\n",
       "count            215700.000000                  97438.000000   \n",
       "mean                 18.359758                     35.031949   \n",
       "std                   7.057999                     21.810714   \n",
       "min                   3.400000                      0.000000   \n",
       "25%                  13.600000                           NaN   \n",
       "50%                  17.000000                           NaN   \n",
       "75%                  21.800000                           NaN   \n",
       "max                  70.500000                    176.000000   \n",
       "\n",
       "       Number_of_Open_Accounts  Number_of_Credit_Problems  \\\n",
       "count            215700.000000              215700.000000   \n",
       "mean                 11.077566                   0.155424   \n",
       "std                   4.971825                   0.457972   \n",
       "min                   0.000000                   0.000000   \n",
       "25%                   8.000000                   0.000000   \n",
       "50%                  10.000000                   0.000000   \n",
       "75%                  14.000000                   0.000000   \n",
       "max                  76.000000                  11.000000   \n",
       "\n",
       "       Current_Credit_Balance   Bankruptcies      Tax_Liens  \n",
       "count            2.157000e+05  215248.000000  215678.000000  \n",
       "mean             1.545722e+04       0.110556       0.026331  \n",
       "std              1.975031e+04       0.336853       0.240853  \n",
       "min              0.000000e+00       0.000000       0.000000  \n",
       "25%              5.933000e+03            NaN            NaN  \n",
       "50%              1.104200e+04            NaN            NaN  \n",
       "75%              1.932400e+04            NaN            NaN  \n",
       "max              1.731412e+06       7.000000      11.000000  "
      ]
     },
     "execution_count": 30,
     "metadata": {},
     "output_type": "execute_result"
    }
   ],
   "source": [
    "df.describe()"
   ]
  },
  {
   "cell_type": "code",
   "execution_count": 31,
   "metadata": {
    "collapsed": true
   },
   "outputs": [],
   "source": [
    "df=df.dropna(subset=['Bankruptcies'])"
   ]
  },
  {
   "cell_type": "code",
   "execution_count": 32,
   "metadata": {
    "collapsed": false,
    "nbpresent": {
     "id": "3d4432f5-9c29-4e4c-90c6-eb56802b3bd1"
    }
   },
   "outputs": [
    {
     "data": {
      "text/plain": [
       "Credit_Score                     54903\n",
       "Years_in_current_job              8990\n",
       "Annual_Income                    54903\n",
       "Months_since_last_delinquent    118259\n",
       "Bankruptcies                         0\n",
       "Tax_Liens                            0\n",
       "dtype: int64"
      ]
     },
     "execution_count": 32,
     "metadata": {},
     "output_type": "execute_result"
    }
   ],
   "source": [
    "df[['Credit_Score','Years_in_current_job','Annual_Income','Months_since_last_delinquent','Bankruptcies','Tax_Liens']].isnull().sum()"
   ]
  },
  {
   "cell_type": "code",
   "execution_count": 33,
   "metadata": {
    "collapsed": false,
    "nbpresent": {
     "id": "b0cf1bba-0546-4ba8-8be3-7ae73060fbdf"
    }
   },
   "outputs": [],
   "source": [
    "#df.dropna(subset = ['column1_name', 'column2_name', 'column3_name'])"
   ]
  },
  {
   "cell_type": "code",
   "execution_count": 34,
   "metadata": {
    "collapsed": false,
    "nbpresent": {
     "id": "13031031-f4f3-4d1b-ab0a-26260a847277"
    }
   },
   "outputs": [
    {
     "name": "stderr",
     "output_type": "stream",
     "text": [
      "C:\\Users\\phong\\Anaconda2\\lib\\site-packages\\pandas\\core\\indexing.py:465: SettingWithCopyWarning: \n",
      "A value is trying to be set on a copy of a slice from a DataFrame.\n",
      "Try using .loc[row_indexer,col_indexer] = value instead\n",
      "\n",
      "See the caveats in the documentation: http://pandas.pydata.org/pandas-docs/stable/indexing.html#indexing-view-versus-copy\n",
      "  self.obj[item] = s\n"
     ]
    }
   ],
   "source": [
    "df.loc[df['Credit_Score']>800,'Credit_Score']/=10"
   ]
  },
  {
   "cell_type": "code",
   "execution_count": 35,
   "metadata": {
    "collapsed": false
   },
   "outputs": [
    {
     "data": {
      "text/plain": [
       "0     741.0\n",
       "1     734.0\n",
       "2     747.0\n",
       "3     747.0\n",
       "4     746.0\n",
       "5     716.0\n",
       "6     664.0\n",
       "8       NaN\n",
       "9     733.0\n",
       "10    742.0\n",
       "11    742.0\n",
       "12      NaN\n",
       "16    744.0\n",
       "17    744.0\n",
       "18    729.0\n",
       "20      NaN\n",
       "22      NaN\n",
       "23    745.0\n",
       "24    734.0\n",
       "25    733.0\n",
       "Name: Credit_Score, dtype: float64"
      ]
     },
     "execution_count": 35,
     "metadata": {},
     "output_type": "execute_result"
    }
   ],
   "source": [
    "df.Credit_Score.head(20)"
   ]
  },
  {
   "cell_type": "code",
   "execution_count": 36,
   "metadata": {
    "collapsed": false,
    "nbpresent": {
     "id": "96292972-ea80-4121-b2d3-e32367cd484f"
    }
   },
   "outputs": [
    {
     "data": {
      "text/html": [
       "<div>\n",
       "<table border=\"1\" class=\"dataframe\">\n",
       "  <thead>\n",
       "    <tr style=\"text-align: right;\">\n",
       "      <th></th>\n",
       "      <th>Number_of_Open_Accounts</th>\n",
       "      <th>Number_of_Credit_Problems</th>\n",
       "      <th>Bankruptcies</th>\n",
       "      <th>Tax_Liens</th>\n",
       "    </tr>\n",
       "  </thead>\n",
       "  <tbody>\n",
       "    <tr>\n",
       "      <th>77</th>\n",
       "      <td>11</td>\n",
       "      <td>2</td>\n",
       "      <td>2.0</td>\n",
       "      <td>0.0</td>\n",
       "    </tr>\n",
       "    <tr>\n",
       "      <th>165</th>\n",
       "      <td>8</td>\n",
       "      <td>5</td>\n",
       "      <td>0.0</td>\n",
       "      <td>5.0</td>\n",
       "    </tr>\n",
       "    <tr>\n",
       "      <th>218</th>\n",
       "      <td>11</td>\n",
       "      <td>2</td>\n",
       "      <td>1.0</td>\n",
       "      <td>1.0</td>\n",
       "    </tr>\n",
       "    <tr>\n",
       "      <th>396</th>\n",
       "      <td>17</td>\n",
       "      <td>2</td>\n",
       "      <td>1.0</td>\n",
       "      <td>0.0</td>\n",
       "    </tr>\n",
       "    <tr>\n",
       "      <th>481</th>\n",
       "      <td>11</td>\n",
       "      <td>3</td>\n",
       "      <td>0.0</td>\n",
       "      <td>2.0</td>\n",
       "    </tr>\n",
       "  </tbody>\n",
       "</table>\n",
       "</div>"
      ],
      "text/plain": [
       "     Number_of_Open_Accounts  Number_of_Credit_Problems  Bankruptcies  \\\n",
       "77                        11                          2           2.0   \n",
       "165                        8                          5           0.0   \n",
       "218                       11                          2           1.0   \n",
       "396                       17                          2           1.0   \n",
       "481                       11                          3           0.0   \n",
       "\n",
       "     Tax_Liens  \n",
       "77         0.0  \n",
       "165        5.0  \n",
       "218        1.0  \n",
       "396        0.0  \n",
       "481        2.0  "
      ]
     },
     "execution_count": 36,
     "metadata": {},
     "output_type": "execute_result"
    }
   ],
   "source": [
    "df[['Number_of_Open_Accounts','Number_of_Credit_Problems','Bankruptcies','Tax_Liens']][df['Number_of_Credit_Problems']>1].head()"
   ]
  },
  {
   "cell_type": "code",
   "execution_count": 37,
   "metadata": {
    "collapsed": false
   },
   "outputs": [
    {
     "name": "stderr",
     "output_type": "stream",
     "text": [
      "C:\\Users\\phong\\Anaconda2\\lib\\site-packages\\ipykernel\\__main__.py:2: FutureWarning: convert_objects is deprecated.  Use the data-type specific converters pd.to_datetime, pd.to_timedelta and pd.to_numeric.\n",
      "  from ipykernel import kernelapp as app\n",
      "C:\\Users\\phong\\Anaconda2\\lib\\site-packages\\ipykernel\\__main__.py:2: SettingWithCopyWarning: \n",
      "A value is trying to be set on a copy of a slice from a DataFrame.\n",
      "Try using .loc[row_indexer,col_indexer] = value instead\n",
      "\n",
      "See the caveats in the documentation: http://pandas.pydata.org/pandas-docs/stable/indexing.html#indexing-view-versus-copy\n",
      "  from ipykernel import kernelapp as app\n"
     ]
    }
   ],
   "source": [
    "#df[['Maximum_Open_Credit']].applymap(lambda x: str.count(x, '#VALUE!'))\n",
    "df['Maximum_Open_Credit']=df['Maximum_Open_Credit'].convert_objects(convert_numeric=True)"
   ]
  },
  {
   "cell_type": "code",
   "execution_count": 38,
   "metadata": {
    "collapsed": false
   },
   "outputs": [
    {
     "data": {
      "text/plain": [
       "2"
      ]
     },
     "execution_count": 38,
     "metadata": {},
     "output_type": "execute_result"
    }
   ],
   "source": [
    "df['Maximum_Open_Credit'].isnull().sum()"
   ]
  },
  {
   "cell_type": "code",
   "execution_count": 39,
   "metadata": {
    "collapsed": true
   },
   "outputs": [],
   "source": [
    "df=df.dropna(subset=['Maximum_Open_Credit'])"
   ]
  },
  {
   "cell_type": "code",
   "execution_count": 40,
   "metadata": {
    "collapsed": false,
    "nbpresent": {
     "id": "a3467b54-889b-4216-8d98-b4acca617e93"
    }
   },
   "outputs": [],
   "source": [
    "#credit utilization from Current Credit Balance divide Maximum_Open_Credit\n",
    "df['Credit_Utilization']=df['Maximum_Open_Credit']/df['Number_of_Open_Accounts']\n",
    "#df=df.drop(['Maximum_Open_Credit','Number_of_Open_Accounts'],axis=1)"
   ]
  },
  {
   "cell_type": "code",
   "execution_count": 41,
   "metadata": {
    "collapsed": false,
    "nbpresent": {
     "id": "7479b498-6e1d-44d9-abec-3164af46a039"
    }
   },
   "outputs": [
    {
     "data": {
      "text/html": [
       "<div>\n",
       "<table border=\"1\" class=\"dataframe\">\n",
       "  <thead>\n",
       "    <tr style=\"text-align: right;\">\n",
       "      <th></th>\n",
       "      <th>Loan_ID</th>\n",
       "      <th>Customer_ID</th>\n",
       "      <th>Loan_Status</th>\n",
       "      <th>Current_Loan_Amount</th>\n",
       "      <th>Term</th>\n",
       "      <th>Credit_Score</th>\n",
       "      <th>Years_in_current_job</th>\n",
       "      <th>Home_Ownership</th>\n",
       "      <th>Annual_Income</th>\n",
       "      <th>Purpose</th>\n",
       "      <th>Monthly_Debt</th>\n",
       "      <th>Years_of_Credit_History</th>\n",
       "      <th>Months_since_last_delinquent</th>\n",
       "      <th>Number_of_Open_Accounts</th>\n",
       "      <th>Number_of_Credit_Problems</th>\n",
       "      <th>Current_Credit_Balance</th>\n",
       "      <th>Maximum_Open_Credit</th>\n",
       "      <th>Bankruptcies</th>\n",
       "      <th>Tax_Liens</th>\n",
       "      <th>Credit_Utilization</th>\n",
       "    </tr>\n",
       "  </thead>\n",
       "  <tbody>\n",
       "    <tr>\n",
       "      <th>0</th>\n",
       "      <td>000025bb-5694-4cff-b17d-192b1a98ba44</td>\n",
       "      <td>5ebc8bb1-5eb9-4404-b11b-a6eebc401a19</td>\n",
       "      <td>1</td>\n",
       "      <td>11520</td>\n",
       "      <td>0</td>\n",
       "      <td>741.0</td>\n",
       "      <td>11.0</td>\n",
       "      <td>HaveMortgage</td>\n",
       "      <td>33694.0</td>\n",
       "      <td>Debt Consolidation</td>\n",
       "      <td>584.03</td>\n",
       "      <td>12.3</td>\n",
       "      <td>41.0</td>\n",
       "      <td>10</td>\n",
       "      <td>0</td>\n",
       "      <td>6760</td>\n",
       "      <td>16056.0</td>\n",
       "      <td>0.0</td>\n",
       "      <td>0.0</td>\n",
       "      <td>1605.600000</td>\n",
       "    </tr>\n",
       "    <tr>\n",
       "      <th>1</th>\n",
       "      <td>00002c49-3a29-4bd4-8f67-c8f8fbc1048c</td>\n",
       "      <td>927b388d-2e01-423f-a8dc-f7e42d668f46</td>\n",
       "      <td>1</td>\n",
       "      <td>3441</td>\n",
       "      <td>0</td>\n",
       "      <td>734.0</td>\n",
       "      <td>4.0</td>\n",
       "      <td>HaveMortgage</td>\n",
       "      <td>42269.0</td>\n",
       "      <td>Other</td>\n",
       "      <td>1106.04</td>\n",
       "      <td>26.3</td>\n",
       "      <td>NaN</td>\n",
       "      <td>17</td>\n",
       "      <td>0</td>\n",
       "      <td>6262</td>\n",
       "      <td>19149.0</td>\n",
       "      <td>0.0</td>\n",
       "      <td>0.0</td>\n",
       "      <td>1126.411765</td>\n",
       "    </tr>\n",
       "    <tr>\n",
       "      <th>2</th>\n",
       "      <td>00002d89-27f3-409b-aa76-90834f359a65</td>\n",
       "      <td>defce609-c631-447d-aad6-1270615e89c4</td>\n",
       "      <td>1</td>\n",
       "      <td>21029</td>\n",
       "      <td>0</td>\n",
       "      <td>747.0</td>\n",
       "      <td>11.0</td>\n",
       "      <td>HaveMortgage</td>\n",
       "      <td>90126.0</td>\n",
       "      <td>Debt Consolidation</td>\n",
       "      <td>1321.85</td>\n",
       "      <td>28.8</td>\n",
       "      <td>NaN</td>\n",
       "      <td>5</td>\n",
       "      <td>0</td>\n",
       "      <td>20967</td>\n",
       "      <td>28335.0</td>\n",
       "      <td>0.0</td>\n",
       "      <td>0.0</td>\n",
       "      <td>5667.000000</td>\n",
       "    </tr>\n",
       "    <tr>\n",
       "      <th>3</th>\n",
       "      <td>00005222-b4d8-45a4-ad8c-186057e24233</td>\n",
       "      <td>070bcecb-aae7-4485-a26a-e0403e7bb6c5</td>\n",
       "      <td>1</td>\n",
       "      <td>18743</td>\n",
       "      <td>0</td>\n",
       "      <td>747.0</td>\n",
       "      <td>11.0</td>\n",
       "      <td>Own Home</td>\n",
       "      <td>38072.0</td>\n",
       "      <td>Debt Consolidation</td>\n",
       "      <td>751.92</td>\n",
       "      <td>26.2</td>\n",
       "      <td>NaN</td>\n",
       "      <td>9</td>\n",
       "      <td>0</td>\n",
       "      <td>22529</td>\n",
       "      <td>43915.0</td>\n",
       "      <td>0.0</td>\n",
       "      <td>0.0</td>\n",
       "      <td>4879.444444</td>\n",
       "    </tr>\n",
       "    <tr>\n",
       "      <th>4</th>\n",
       "      <td>0000757f-a121-41ed-b17b-162e76647c1f</td>\n",
       "      <td>dde79588-12f0-4811-bab0-e2b07f633fcd</td>\n",
       "      <td>1</td>\n",
       "      <td>11731</td>\n",
       "      <td>0</td>\n",
       "      <td>746.0</td>\n",
       "      <td>4.0</td>\n",
       "      <td>Rent</td>\n",
       "      <td>50025.0</td>\n",
       "      <td>Debt Consolidation</td>\n",
       "      <td>355.18</td>\n",
       "      <td>11.5</td>\n",
       "      <td>NaN</td>\n",
       "      <td>12</td>\n",
       "      <td>0</td>\n",
       "      <td>17391</td>\n",
       "      <td>37081.0</td>\n",
       "      <td>0.0</td>\n",
       "      <td>0.0</td>\n",
       "      <td>3090.083333</td>\n",
       "    </tr>\n",
       "  </tbody>\n",
       "</table>\n",
       "</div>"
      ],
      "text/plain": [
       "                                Loan_ID                           Customer_ID  \\\n",
       "0  000025bb-5694-4cff-b17d-192b1a98ba44  5ebc8bb1-5eb9-4404-b11b-a6eebc401a19   \n",
       "1  00002c49-3a29-4bd4-8f67-c8f8fbc1048c  927b388d-2e01-423f-a8dc-f7e42d668f46   \n",
       "2  00002d89-27f3-409b-aa76-90834f359a65  defce609-c631-447d-aad6-1270615e89c4   \n",
       "3  00005222-b4d8-45a4-ad8c-186057e24233  070bcecb-aae7-4485-a26a-e0403e7bb6c5   \n",
       "4  0000757f-a121-41ed-b17b-162e76647c1f  dde79588-12f0-4811-bab0-e2b07f633fcd   \n",
       "\n",
       "   Loan_Status  Current_Loan_Amount  Term  Credit_Score  Years_in_current_job  \\\n",
       "0            1                11520     0         741.0                  11.0   \n",
       "1            1                 3441     0         734.0                   4.0   \n",
       "2            1                21029     0         747.0                  11.0   \n",
       "3            1                18743     0         747.0                  11.0   \n",
       "4            1                11731     0         746.0                   4.0   \n",
       "\n",
       "  Home_Ownership  Annual_Income             Purpose  Monthly_Debt  \\\n",
       "0   HaveMortgage        33694.0  Debt Consolidation        584.03   \n",
       "1   HaveMortgage        42269.0               Other       1106.04   \n",
       "2   HaveMortgage        90126.0  Debt Consolidation       1321.85   \n",
       "3       Own Home        38072.0  Debt Consolidation        751.92   \n",
       "4           Rent        50025.0  Debt Consolidation        355.18   \n",
       "\n",
       "   Years_of_Credit_History  Months_since_last_delinquent  \\\n",
       "0                     12.3                          41.0   \n",
       "1                     26.3                           NaN   \n",
       "2                     28.8                           NaN   \n",
       "3                     26.2                           NaN   \n",
       "4                     11.5                           NaN   \n",
       "\n",
       "   Number_of_Open_Accounts  Number_of_Credit_Problems  Current_Credit_Balance  \\\n",
       "0                       10                          0                    6760   \n",
       "1                       17                          0                    6262   \n",
       "2                        5                          0                   20967   \n",
       "3                        9                          0                   22529   \n",
       "4                       12                          0                   17391   \n",
       "\n",
       "   Maximum_Open_Credit  Bankruptcies  Tax_Liens  Credit_Utilization  \n",
       "0              16056.0           0.0        0.0         1605.600000  \n",
       "1              19149.0           0.0        0.0         1126.411765  \n",
       "2              28335.0           0.0        0.0         5667.000000  \n",
       "3              43915.0           0.0        0.0         4879.444444  \n",
       "4              37081.0           0.0        0.0         3090.083333  "
      ]
     },
     "execution_count": 41,
     "metadata": {},
     "output_type": "execute_result"
    }
   ],
   "source": [
    "df.head()"
   ]
  },
  {
   "cell_type": "code",
   "execution_count": 42,
   "metadata": {
    "collapsed": false,
    "nbpresent": {
     "id": "eb7a192d-a681-490f-a0ce-50aab971b38c"
    }
   },
   "outputs": [
    {
     "data": {
      "text/plain": [
       "array([ 11.,   4.,   6.,   5.,  nan,   3.,   2.,   0.,   1.,   7.,   9.,\n",
       "         8.])"
      ]
     },
     "execution_count": 42,
     "metadata": {},
     "output_type": "execute_result"
    }
   ],
   "source": [
    "df.Years_in_current_job.unique()"
   ]
  },
  {
   "cell_type": "code",
   "execution_count": 43,
   "metadata": {
    "collapsed": false,
    "nbpresent": {
     "id": "cd93d2d8-c7d5-4905-aee1-43318739b6c4"
    }
   },
   "outputs": [
    {
     "data": {
      "text/plain": [
       "<matplotlib.axes._subplots.AxesSubplot at 0x14511cc0>"
      ]
     },
     "execution_count": 43,
     "metadata": {},
     "output_type": "execute_result"
    },
    {
     "data": {
      "image/png": "[encoded data removed]",
      "text/plain": [
       "<matplotlib.figure.Figure at 0x12299710>"
      ]
     },
     "metadata": {},
     "output_type": "display_data"
    }
   ],
   "source": [
    "fig, (axis1,axis2) = plt.subplots(2,1,figsize=(15,6))\n",
    "mean_income_vs_year = df[[\"Years_in_current_job\", \"Annual_Income\"]].groupby(['Years_in_current_job'],as_index=False).mean()\n",
    "sns.barplot(x='Years_in_current_job', y='Annual_Income', data=mean_income_vs_year,ax=axis1)\n",
    "median_income_vs_year=df[[\"Years_in_current_job\", \"Annual_Income\"]].groupby(['Years_in_current_job'],as_index=False).median()\n",
    "sns.barplot(x='Years_in_current_job', y='Annual_Income', data=median_income_vs_year,ax=axis2)"
   ]
  },
  {
   "cell_type": "code",
   "execution_count": 44,
   "metadata": {
    "collapsed": false,
    "nbpresent": {
     "id": "d30dcfdf-0d0b-425f-9cc2-ac795fbec9e6"
    }
   },
   "outputs": [],
   "source": [
    "#dup_index=df.set_index('Customer_ID').index.get_duplicates()"
   ]
  },
  {
   "cell_type": "code",
   "execution_count": 45,
   "metadata": {
    "collapsed": false,
    "nbpresent": {
     "id": "0963de96-4fc7-4af1-a8be-bc45b730cb5f"
    }
   },
   "outputs": [],
   "source": [
    "#duplicates=df.loc[df['Customer_ID'].isin(dup_index)]"
   ]
  },
  {
   "cell_type": "code",
   "execution_count": 46,
   "metadata": {
    "collapsed": false
   },
   "outputs": [],
   "source": [
    "nan_years=df[df['Years_in_current_job'].isnull()]"
   ]
  },
  {
   "cell_type": "code",
   "execution_count": 47,
   "metadata": {
    "collapsed": false
   },
   "outputs": [
    {
     "data": {
      "text/plain": [
       "48339.96171036949"
      ]
     },
     "execution_count": 47,
     "metadata": {},
     "output_type": "execute_result"
    }
   ],
   "source": [
    "nan_years['Annual_Income'][nan_years.Annual_Income.notnull()].mean()"
   ]
  },
  {
   "cell_type": "code",
   "execution_count": 48,
   "metadata": {
    "collapsed": false
   },
   "outputs": [
    {
     "data": {
      "text/plain": [
       "(48339.96171036949, 43039.5, 4134.0, 769044.0)"
      ]
     },
     "execution_count": 48,
     "metadata": {},
     "output_type": "execute_result"
    }
   ],
   "source": [
    "nan_years['Annual_Income'].mean(),nan_years['Annual_Income'].median(),nan_years['Annual_Income'].min(),nan_years['Annual_Income'].max()"
   ]
  },
  {
   "cell_type": "code",
   "execution_count": 49,
   "metadata": {
    "collapsed": false,
    "nbpresent": {
     "id": "9759c938-c2da-452c-ae33-1d92bffc4486"
    }
   },
   "outputs": [
    {
     "data": {
      "text/plain": [
       "<matplotlib.axes._subplots.AxesSubplot at 0x122aaeb8>"
      ]
     },
     "execution_count": 49,
     "metadata": {},
     "output_type": "execute_result"
    },
    {
     "data": {
      "image/png": "[encoded data removed]",
      "text/plain": [
       "<matplotlib.figure.Figure at 0x122aaba8>"
      ]
     },
     "metadata": {},
     "output_type": "display_data"
    }
   ],
   "source": [
    "#facet = sns.FacetGrid(nan_years, hue=\"Years_in_current_job\",aspect=4)\n",
    "#facet.map(sns.kdeplot,'Annual_Income',shade= True)\n",
    "#facet.set(xlim=(0, titanic_df['Age'].max()))\n",
    "#facet.add_legend()\n",
    "sns.kdeplot(nan_years.Annual_Income)"
   ]
  },
  {
   "cell_type": "code",
   "execution_count": 50,
   "metadata": {
    "collapsed": false
   },
   "outputs": [
    {
     "data": {
      "text/plain": [
       "Credit_Score                     54902\n",
       "Years_in_current_job              8990\n",
       "Annual_Income                    54902\n",
       "Months_since_last_delinquent    118258\n",
       "Bankruptcies                         0\n",
       "Tax_Liens                            0\n",
       "dtype: int64"
      ]
     },
     "execution_count": 50,
     "metadata": {},
     "output_type": "execute_result"
    }
   ],
   "source": [
    "df[['Credit_Score','Years_in_current_job','Annual_Income','Months_since_last_delinquent','Bankruptcies','Tax_Liens']].isnull().sum()"
   ]
  },
  {
   "cell_type": "code",
   "execution_count": 51,
   "metadata": {
    "collapsed": false
   },
   "outputs": [
    {
     "data": {
      "text/plain": [
       "(    Years_in_current_job  Annual_Income\n",
       " 0                    0.0   68545.013340\n",
       " 1                    1.0   69093.283486\n",
       " 2                    2.0   71237.986845\n",
       " 3                    3.0   71761.327448\n",
       " 4                    4.0   71548.641534\n",
       " 5                    5.0   71544.200862\n",
       " 6                    6.0   71740.567138\n",
       " 7                    7.0   73405.341305\n",
       " 8                    8.0   74349.727641\n",
       " 9                    9.0   75312.077964\n",
       " 10                  11.0   80497.724589,\n",
       "     Years_in_current_job  Annual_Income\n",
       " 0                    0.0        57087.0\n",
       " 1                    1.0        58239.5\n",
       " 2                    2.0        59293.0\n",
       " 3                    3.0        59759.5\n",
       " 4                    4.0        60786.0\n",
       " 5                    5.0        60822.0\n",
       " 6                    6.0        61267.0\n",
       " 7                    7.0        63229.5\n",
       " 8                    8.0        64044.5\n",
       " 9                    9.0        64552.0\n",
       " 10                  11.0        70357.0)"
      ]
     },
     "execution_count": 51,
     "metadata": {},
     "output_type": "execute_result"
    }
   ],
   "source": [
    "mean_income_vs_year, median_income_vs_year"
   ]
  },
  {
   "cell_type": "code",
   "execution_count": 52,
   "metadata": {
    "collapsed": false,
    "nbpresent": {
     "id": "51d237f3-08a2-4b1b-abe5-02e8e99fe64c"
    }
   },
   "outputs": [],
   "source": [
    "def process_years():\n",
    "    \n",
    "    global df\n",
    "    \n",
    "    # a function that fills the missing values of the Years_in_current_job variable\n",
    "    \n",
    "    def fillyears(row):\n",
    "        if row['Annual_Income']<=57004:\n",
    "            return 0\n",
    "        elif  57004<row['Annual_Income']<= 58168:\n",
    "            return 1\n",
    "        elif 58168<row['Annual_Income']<= 59292:\n",
    "            return 2\n",
    "        elif  59292<row['Annual_Income']<= 59761:\n",
    "            return 3\n",
    "        elif 59761<row['Annual_Income']<= 60779:\n",
    "            return 4\n",
    "        elif 60779<['Annual_Income']<= 60816:\n",
    "            return 5\n",
    "        elif 60816<row['Annual_Income']<= 61244:\n",
    "            return 6\n",
    "        elif 61244<row['Annual_Income']<= 63219:\n",
    "            return 7\n",
    "        elif 63219<row['Annual_Income']<= 64038:\n",
    "            return 8\n",
    "        elif 64038<row['Annual_Income']<= 64552:\n",
    "            return 9\n",
    "        elif 64552<row['Annual_Income']<= 70357:\n",
    "            return 10\n",
    "        else: return 11\n",
    "    df.Years_in_current_job = df.apply(lambda r : fillyears(r) if np.isnan(r['Years_in_current_job']) else r['Years_in_current_job'], axis=1)"
   ]
  },
  {
   "cell_type": "code",
   "execution_count": 53,
   "metadata": {
    "collapsed": false
   },
   "outputs": [],
   "source": [
    "process_years()"
   ]
  },
  {
   "cell_type": "code",
   "execution_count": 54,
   "metadata": {
    "collapsed": false
   },
   "outputs": [
    {
     "data": {
      "text/plain": [
       "Credit_Score                     54902\n",
       "Years_in_current_job                 0\n",
       "Annual_Income                    54902\n",
       "Months_since_last_delinquent    118258\n",
       "Bankruptcies                         0\n",
       "Tax_Liens                            0\n",
       "dtype: int64"
      ]
     },
     "execution_count": 54,
     "metadata": {},
     "output_type": "execute_result"
    }
   ],
   "source": [
    "df[['Credit_Score','Years_in_current_job','Annual_Income','Months_since_last_delinquent','Bankruptcies','Tax_Liens']].isnull().sum()"
   ]
  },
  {
   "cell_type": "code",
   "execution_count": 55,
   "metadata": {
    "collapsed": false
   },
   "outputs": [
    {
     "data": {
      "text/plain": [
       "<matplotlib.axes._subplots.AxesSubplot at 0x23b30c50>"
      ]
     },
     "execution_count": 55,
     "metadata": {},
     "output_type": "execute_result"
    },
    {
     "data": {
      "image/png": "[encoded data removed]",
      "text/plain": [
       "<matplotlib.figure.Figure at 0x131edc18>"
      ]
     },
     "metadata": {},
     "output_type": "display_data"
    }
   ],
   "source": [
    "fig, (axis1,axis2) = plt.subplots(2,1,figsize=(15,6))\n",
    "mean_income_vs_year = df[[\"Years_in_current_job\", \"Annual_Income\"]].groupby(['Years_in_current_job'],as_index=False).mean()\n",
    "sns.barplot(x='Years_in_current_job', y='Annual_Income', data=mean_income_vs_year,ax=axis1)\n",
    "median_income_vs_year=df[[\"Years_in_current_job\", \"Annual_Income\"]].groupby(['Years_in_current_job'],as_index=False).median()\n",
    "sns.barplot(x='Years_in_current_job', y='Annual_Income', data=median_income_vs_year,ax=axis2)"
   ]
  },
  {
   "cell_type": "code",
   "execution_count": 56,
   "metadata": {
    "collapsed": false
   },
   "outputs": [
    {
     "data": {
      "text/plain": [
       "(    Years_in_current_job  Annual_Income\n",
       " 0                    0.0   59353.692151\n",
       " 1                    1.0   69038.818216\n",
       " 2                    2.0   71146.683051\n",
       " 3                    3.0   71721.870812\n",
       " 4                    4.0   71446.370904\n",
       " 5                    5.0   71544.200862\n",
       " 6                    6.0   71699.439666\n",
       " 7                    7.0   73287.326976\n",
       " 8                    8.0   74273.218227\n",
       " 9                    9.0   75242.555754\n",
       " 10                  10.0   67339.914754\n",
       " 11                  11.0   80848.479841,\n",
       "     Years_in_current_job  Annual_Income\n",
       " 0                    0.0        48566.0\n",
       " 1                    1.0        58012.0\n",
       " 2                    2.0        59124.0\n",
       " 3                    3.0        59694.0\n",
       " 4                    4.0        60624.0\n",
       " 5                    5.0        60822.0\n",
       " 6                    6.0        61207.0\n",
       " 7                    7.0        62720.0\n",
       " 8                    8.0        63908.0\n",
       " 9                    9.0        64461.0\n",
       " 10                  10.0        67109.0\n",
       " 11                  11.0        71029.0)"
      ]
     },
     "execution_count": 56,
     "metadata": {},
     "output_type": "execute_result"
    }
   ],
   "source": [
    "mean_income_vs_year, median_income_vs_year"
   ]
  },
  {
   "cell_type": "code",
   "execution_count": 57,
   "metadata": {
    "collapsed": true
   },
   "outputs": [],
   "source": [
    "ridge=df[['Years_in_current_job','Annual_Income','Home_Ownership']]\n",
    "Ownership_dummies=pd.get_dummies(ridge.Home_Ownership,prefix=\"Ownership\", drop_first=True)\n",
    "ridge=pd.merge(ridge,Ownership_dummies,left_index=True, right_index=True)\n",
    "ridge.drop('Home_Ownership',axis=1,inplace=True)"
   ]
  },
  {
   "cell_type": "code",
   "execution_count": 58,
   "metadata": {
    "collapsed": false
   },
   "outputs": [
    {
     "name": "stdout",
     "output_type": "stream",
     "text": [
      "<class 'pandas.core.frame.DataFrame'>\n",
      "Int64Index: 215246 entries, 0 to 256983\n",
      "Data columns (total 4 columns):\n",
      "Years_in_current_job    215246 non-null float64\n",
      "Annual_Income           160344 non-null float64\n",
      "Ownership_Own Home      215246 non-null float64\n",
      "Ownership_Rent          215246 non-null float64\n",
      "dtypes: float64(4)\n",
      "memory usage: 8.2 MB\n"
     ]
    }
   ],
   "source": [
    "ridge.info()"
   ]
  },
  {
   "cell_type": "code",
   "execution_count": 59,
   "metadata": {
    "collapsed": true
   },
   "outputs": [],
   "source": [
    "ridge_train=ridge[ridge.Annual_Income.notnull()]"
   ]
  },
  {
   "cell_type": "code",
   "execution_count": 60,
   "metadata": {
    "collapsed": false
   },
   "outputs": [
    {
     "data": {
      "text/html": [
       "<div>\n",
       "<table border=\"1\" class=\"dataframe\">\n",
       "  <thead>\n",
       "    <tr style=\"text-align: right;\">\n",
       "      <th></th>\n",
       "      <th>Years_in_current_job</th>\n",
       "      <th>Annual_Income</th>\n",
       "      <th>Ownership_Own Home</th>\n",
       "      <th>Ownership_Rent</th>\n",
       "    </tr>\n",
       "  </thead>\n",
       "  <tbody>\n",
       "    <tr>\n",
       "      <th>0</th>\n",
       "      <td>11.0</td>\n",
       "      <td>33694.0</td>\n",
       "      <td>0.0</td>\n",
       "      <td>0.0</td>\n",
       "    </tr>\n",
       "    <tr>\n",
       "      <th>1</th>\n",
       "      <td>4.0</td>\n",
       "      <td>42269.0</td>\n",
       "      <td>0.0</td>\n",
       "      <td>0.0</td>\n",
       "    </tr>\n",
       "    <tr>\n",
       "      <th>2</th>\n",
       "      <td>11.0</td>\n",
       "      <td>90126.0</td>\n",
       "      <td>0.0</td>\n",
       "      <td>0.0</td>\n",
       "    </tr>\n",
       "    <tr>\n",
       "      <th>3</th>\n",
       "      <td>11.0</td>\n",
       "      <td>38072.0</td>\n",
       "      <td>1.0</td>\n",
       "      <td>0.0</td>\n",
       "    </tr>\n",
       "    <tr>\n",
       "      <th>4</th>\n",
       "      <td>4.0</td>\n",
       "      <td>50025.0</td>\n",
       "      <td>0.0</td>\n",
       "      <td>1.0</td>\n",
       "    </tr>\n",
       "  </tbody>\n",
       "</table>\n",
       "</div>"
      ],
      "text/plain": [
       "   Years_in_current_job  Annual_Income  Ownership_Own Home  Ownership_Rent\n",
       "0                  11.0        33694.0                 0.0             0.0\n",
       "1                   4.0        42269.0                 0.0             0.0\n",
       "2                  11.0        90126.0                 0.0             0.0\n",
       "3                  11.0        38072.0                 1.0             0.0\n",
       "4                   4.0        50025.0                 0.0             1.0"
      ]
     },
     "execution_count": 60,
     "metadata": {},
     "output_type": "execute_result"
    }
   ],
   "source": [
    "ridge_train.head()"
   ]
  },
  {
   "cell_type": "code",
   "execution_count": 61,
   "metadata": {
    "collapsed": false
   },
   "outputs": [
    {
     "data": {
      "text/plain": [
       "(160344, 4)"
      ]
     },
     "execution_count": 61,
     "metadata": {},
     "output_type": "execute_result"
    }
   ],
   "source": [
    "ridge_train.shape"
   ]
  },
  {
   "cell_type": "code",
   "execution_count": 62,
   "metadata": {
    "collapsed": true
   },
   "outputs": [],
   "source": [
    "ridge_test=ridge[ridge.Annual_Income.isnull()]"
   ]
  },
  {
   "cell_type": "code",
   "execution_count": 63,
   "metadata": {
    "collapsed": false
   },
   "outputs": [
    {
     "data": {
      "text/html": [
       "<div>\n",
       "<table border=\"1\" class=\"dataframe\">\n",
       "  <thead>\n",
       "    <tr style=\"text-align: right;\">\n",
       "      <th></th>\n",
       "      <th>Years_in_current_job</th>\n",
       "      <th>Annual_Income</th>\n",
       "      <th>Ownership_Own Home</th>\n",
       "      <th>Ownership_Rent</th>\n",
       "    </tr>\n",
       "  </thead>\n",
       "  <tbody>\n",
       "    <tr>\n",
       "      <th>8</th>\n",
       "      <td>5.0</td>\n",
       "      <td>NaN</td>\n",
       "      <td>0.0</td>\n",
       "      <td>1.0</td>\n",
       "    </tr>\n",
       "    <tr>\n",
       "      <th>12</th>\n",
       "      <td>0.0</td>\n",
       "      <td>NaN</td>\n",
       "      <td>1.0</td>\n",
       "      <td>0.0</td>\n",
       "    </tr>\n",
       "    <tr>\n",
       "      <th>20</th>\n",
       "      <td>3.0</td>\n",
       "      <td>NaN</td>\n",
       "      <td>0.0</td>\n",
       "      <td>0.0</td>\n",
       "    </tr>\n",
       "    <tr>\n",
       "      <th>22</th>\n",
       "      <td>3.0</td>\n",
       "      <td>NaN</td>\n",
       "      <td>0.0</td>\n",
       "      <td>0.0</td>\n",
       "    </tr>\n",
       "    <tr>\n",
       "      <th>26</th>\n",
       "      <td>11.0</td>\n",
       "      <td>NaN</td>\n",
       "      <td>0.0</td>\n",
       "      <td>1.0</td>\n",
       "    </tr>\n",
       "  </tbody>\n",
       "</table>\n",
       "</div>"
      ],
      "text/plain": [
       "    Years_in_current_job  Annual_Income  Ownership_Own Home  Ownership_Rent\n",
       "8                    5.0            NaN                 0.0             1.0\n",
       "12                   0.0            NaN                 1.0             0.0\n",
       "20                   3.0            NaN                 0.0             0.0\n",
       "22                   3.0            NaN                 0.0             0.0\n",
       "26                  11.0            NaN                 0.0             1.0"
      ]
     },
     "execution_count": 63,
     "metadata": {},
     "output_type": "execute_result"
    }
   ],
   "source": [
    "ridge_test.head()"
   ]
  },
  {
   "cell_type": "code",
   "execution_count": 64,
   "metadata": {
    "collapsed": false
   },
   "outputs": [
    {
     "data": {
      "text/plain": [
       "(54902, 4)"
      ]
     },
     "execution_count": 64,
     "metadata": {},
     "output_type": "execute_result"
    }
   ],
   "source": [
    "ridge_test.shape"
   ]
  },
  {
   "cell_type": "code",
   "execution_count": 65,
   "metadata": {
    "collapsed": true
   },
   "outputs": [],
   "source": [
    "from sklearn.linear_model import Ridge"
   ]
  },
  {
   "cell_type": "code",
   "execution_count": 66,
   "metadata": {
    "collapsed": true,
    "nbpresent": {
     "id": "264108d4-a1be-4282-806b-bc4db794543d"
    }
   },
   "outputs": [],
   "source": [
    "# for tinanic, can classify the mean and median for the gender based on MR,MRS, MS\n",
    "#Cabin variable, for missing values, make unknown values\n",
    "#For sibling and parents, make a new column called family\n",
    "#divide credit score to 10 when they have problems\n",
    "#"
   ]
  },
  {
   "cell_type": "code",
   "execution_count": 67,
   "metadata": {
    "collapsed": false
   },
   "outputs": [],
   "source": [
    "X_ridge_train=ridge_train[['Years_in_current_job','Ownership_Own Home','Ownership_Rent']]\n",
    "y__ridge_train=ridge_train[['Annual_Income']]"
   ]
  },
  {
   "cell_type": "code",
   "execution_count": 68,
   "metadata": {
    "collapsed": false
   },
   "outputs": [
    {
     "data": {
      "text/plain": [
       "Ridge(alpha=1, copy_X=True, fit_intercept=True, max_iter=None, normalize=True,\n",
       "   random_state=None, solver='auto', tol=0.001)"
      ]
     },
     "execution_count": 68,
     "metadata": {},
     "output_type": "execute_result"
    }
   ],
   "source": [
    "ridgereg = Ridge(alpha=1,normalize=True)\n",
    "ridgereg.fit(X_ridge_train,y__ridge_train)\n"
   ]
  },
  {
   "cell_type": "code",
   "execution_count": 69,
   "metadata": {
    "collapsed": true
   },
   "outputs": [],
   "source": [
    "ridge_predict_income= ridgereg.predict(ridge_test[['Years_in_current_job','Ownership_Own Home','Ownership_Rent']])"
   ]
  },
  {
   "cell_type": "code",
   "execution_count": 70,
   "metadata": {
    "collapsed": false
   },
   "outputs": [],
   "source": [
    "ridge_predict_income=ridge_predict_income.ravel()"
   ]
  },
  {
   "cell_type": "code",
   "execution_count": 71,
   "metadata": {
    "collapsed": false
   },
   "outputs": [],
   "source": [
    "ridge_predict_income=pd.Series(ridge_predict_income)"
   ]
  },
  {
   "cell_type": "code",
   "execution_count": 72,
   "metadata": {
    "collapsed": false
   },
   "outputs": [],
   "source": [
    "df.loc[df['Annual_Income'].isnull(), 'Annual_Income'] = ridge_predict_income.reindex(np.arange(df['Annual_Income'].isnull().sum())).values"
   ]
  },
  {
   "cell_type": "code",
   "execution_count": 73,
   "metadata": {
    "collapsed": false
   },
   "outputs": [
    {
     "data": {
      "text/plain": [
       "0"
      ]
     },
     "execution_count": 73,
     "metadata": {},
     "output_type": "execute_result"
    }
   ],
   "source": [
    "df['Annual_Income'].isnull().sum()"
   ]
  },
  {
   "cell_type": "code",
   "execution_count": 74,
   "metadata": {
    "collapsed": false
   },
   "outputs": [
    {
     "data": {
      "text/plain": [
       "Credit_Score                     54902\n",
       "Years_in_current_job                 0\n",
       "Annual_Income                        0\n",
       "Months_since_last_delinquent    118258\n",
       "Bankruptcies                         0\n",
       "Tax_Liens                            0\n",
       "dtype: int64"
      ]
     },
     "execution_count": 74,
     "metadata": {},
     "output_type": "execute_result"
    }
   ],
   "source": [
    "df[['Credit_Score','Years_in_current_job','Annual_Income','Months_since_last_delinquent','Bankruptcies','Tax_Liens']].isnull().sum()"
   ]
  },
  {
   "cell_type": "code",
   "execution_count": 75,
   "metadata": {
    "collapsed": false
   },
   "outputs": [
    {
     "data": {
      "text/html": [
       "<div>\n",
       "<table border=\"1\" class=\"dataframe\">\n",
       "  <thead>\n",
       "    <tr style=\"text-align: right;\">\n",
       "      <th></th>\n",
       "      <th>Loan_ID</th>\n",
       "      <th>Customer_ID</th>\n",
       "      <th>Loan_Status</th>\n",
       "      <th>Current_Loan_Amount</th>\n",
       "      <th>Term</th>\n",
       "      <th>Credit_Score</th>\n",
       "      <th>Years_in_current_job</th>\n",
       "      <th>Home_Ownership</th>\n",
       "      <th>Annual_Income</th>\n",
       "      <th>Purpose</th>\n",
       "      <th>Monthly_Debt</th>\n",
       "      <th>Years_of_Credit_History</th>\n",
       "      <th>Months_since_last_delinquent</th>\n",
       "      <th>Number_of_Open_Accounts</th>\n",
       "      <th>Number_of_Credit_Problems</th>\n",
       "      <th>Current_Credit_Balance</th>\n",
       "      <th>Maximum_Open_Credit</th>\n",
       "      <th>Bankruptcies</th>\n",
       "      <th>Tax_Liens</th>\n",
       "      <th>Credit_Utilization</th>\n",
       "    </tr>\n",
       "  </thead>\n",
       "  <tbody>\n",
       "    <tr>\n",
       "      <th>0</th>\n",
       "      <td>000025bb-5694-4cff-b17d-192b1a98ba44</td>\n",
       "      <td>5ebc8bb1-5eb9-4404-b11b-a6eebc401a19</td>\n",
       "      <td>1</td>\n",
       "      <td>11520</td>\n",
       "      <td>0</td>\n",
       "      <td>741.0</td>\n",
       "      <td>11.0</td>\n",
       "      <td>HaveMortgage</td>\n",
       "      <td>33694.0</td>\n",
       "      <td>Debt Consolidation</td>\n",
       "      <td>584.03</td>\n",
       "      <td>12.3</td>\n",
       "      <td>41.0</td>\n",
       "      <td>10</td>\n",
       "      <td>0</td>\n",
       "      <td>6760</td>\n",
       "      <td>16056.0</td>\n",
       "      <td>0.0</td>\n",
       "      <td>0.0</td>\n",
       "      <td>1605.600000</td>\n",
       "    </tr>\n",
       "    <tr>\n",
       "      <th>1</th>\n",
       "      <td>00002c49-3a29-4bd4-8f67-c8f8fbc1048c</td>\n",
       "      <td>927b388d-2e01-423f-a8dc-f7e42d668f46</td>\n",
       "      <td>1</td>\n",
       "      <td>3441</td>\n",
       "      <td>0</td>\n",
       "      <td>734.0</td>\n",
       "      <td>4.0</td>\n",
       "      <td>HaveMortgage</td>\n",
       "      <td>42269.0</td>\n",
       "      <td>Other</td>\n",
       "      <td>1106.04</td>\n",
       "      <td>26.3</td>\n",
       "      <td>NaN</td>\n",
       "      <td>17</td>\n",
       "      <td>0</td>\n",
       "      <td>6262</td>\n",
       "      <td>19149.0</td>\n",
       "      <td>0.0</td>\n",
       "      <td>0.0</td>\n",
       "      <td>1126.411765</td>\n",
       "    </tr>\n",
       "    <tr>\n",
       "      <th>2</th>\n",
       "      <td>00002d89-27f3-409b-aa76-90834f359a65</td>\n",
       "      <td>defce609-c631-447d-aad6-1270615e89c4</td>\n",
       "      <td>1</td>\n",
       "      <td>21029</td>\n",
       "      <td>0</td>\n",
       "      <td>747.0</td>\n",
       "      <td>11.0</td>\n",
       "      <td>HaveMortgage</td>\n",
       "      <td>90126.0</td>\n",
       "      <td>Debt Consolidation</td>\n",
       "      <td>1321.85</td>\n",
       "      <td>28.8</td>\n",
       "      <td>NaN</td>\n",
       "      <td>5</td>\n",
       "      <td>0</td>\n",
       "      <td>20967</td>\n",
       "      <td>28335.0</td>\n",
       "      <td>0.0</td>\n",
       "      <td>0.0</td>\n",
       "      <td>5667.000000</td>\n",
       "    </tr>\n",
       "    <tr>\n",
       "      <th>3</th>\n",
       "      <td>00005222-b4d8-45a4-ad8c-186057e24233</td>\n",
       "      <td>070bcecb-aae7-4485-a26a-e0403e7bb6c5</td>\n",
       "      <td>1</td>\n",
       "      <td>18743</td>\n",
       "      <td>0</td>\n",
       "      <td>747.0</td>\n",
       "      <td>11.0</td>\n",
       "      <td>Own Home</td>\n",
       "      <td>38072.0</td>\n",
       "      <td>Debt Consolidation</td>\n",
       "      <td>751.92</td>\n",
       "      <td>26.2</td>\n",
       "      <td>NaN</td>\n",
       "      <td>9</td>\n",
       "      <td>0</td>\n",
       "      <td>22529</td>\n",
       "      <td>43915.0</td>\n",
       "      <td>0.0</td>\n",
       "      <td>0.0</td>\n",
       "      <td>4879.444444</td>\n",
       "    </tr>\n",
       "    <tr>\n",
       "      <th>4</th>\n",
       "      <td>0000757f-a121-41ed-b17b-162e76647c1f</td>\n",
       "      <td>dde79588-12f0-4811-bab0-e2b07f633fcd</td>\n",
       "      <td>1</td>\n",
       "      <td>11731</td>\n",
       "      <td>0</td>\n",
       "      <td>746.0</td>\n",
       "      <td>4.0</td>\n",
       "      <td>Rent</td>\n",
       "      <td>50025.0</td>\n",
       "      <td>Debt Consolidation</td>\n",
       "      <td>355.18</td>\n",
       "      <td>11.5</td>\n",
       "      <td>NaN</td>\n",
       "      <td>12</td>\n",
       "      <td>0</td>\n",
       "      <td>17391</td>\n",
       "      <td>37081.0</td>\n",
       "      <td>0.0</td>\n",
       "      <td>0.0</td>\n",
       "      <td>3090.083333</td>\n",
       "    </tr>\n",
       "  </tbody>\n",
       "</table>\n",
       "</div>"
      ],
      "text/plain": [
       "                                Loan_ID                           Customer_ID  \\\n",
       "0  000025bb-5694-4cff-b17d-192b1a98ba44  5ebc8bb1-5eb9-4404-b11b-a6eebc401a19   \n",
       "1  00002c49-3a29-4bd4-8f67-c8f8fbc1048c  927b388d-2e01-423f-a8dc-f7e42d668f46   \n",
       "2  00002d89-27f3-409b-aa76-90834f359a65  defce609-c631-447d-aad6-1270615e89c4   \n",
       "3  00005222-b4d8-45a4-ad8c-186057e24233  070bcecb-aae7-4485-a26a-e0403e7bb6c5   \n",
       "4  0000757f-a121-41ed-b17b-162e76647c1f  dde79588-12f0-4811-bab0-e2b07f633fcd   \n",
       "\n",
       "   Loan_Status  Current_Loan_Amount  Term  Credit_Score  Years_in_current_job  \\\n",
       "0            1                11520     0         741.0                  11.0   \n",
       "1            1                 3441     0         734.0                   4.0   \n",
       "2            1                21029     0         747.0                  11.0   \n",
       "3            1                18743     0         747.0                  11.0   \n",
       "4            1                11731     0         746.0                   4.0   \n",
       "\n",
       "  Home_Ownership  Annual_Income             Purpose  Monthly_Debt  \\\n",
       "0   HaveMortgage        33694.0  Debt Consolidation        584.03   \n",
       "1   HaveMortgage        42269.0               Other       1106.04   \n",
       "2   HaveMortgage        90126.0  Debt Consolidation       1321.85   \n",
       "3       Own Home        38072.0  Debt Consolidation        751.92   \n",
       "4           Rent        50025.0  Debt Consolidation        355.18   \n",
       "\n",
       "   Years_of_Credit_History  Months_since_last_delinquent  \\\n",
       "0                     12.3                          41.0   \n",
       "1                     26.3                           NaN   \n",
       "2                     28.8                           NaN   \n",
       "3                     26.2                           NaN   \n",
       "4                     11.5                           NaN   \n",
       "\n",
       "   Number_of_Open_Accounts  Number_of_Credit_Problems  Current_Credit_Balance  \\\n",
       "0                       10                          0                    6760   \n",
       "1                       17                          0                    6262   \n",
       "2                        5                          0                   20967   \n",
       "3                        9                          0                   22529   \n",
       "4                       12                          0                   17391   \n",
       "\n",
       "   Maximum_Open_Credit  Bankruptcies  Tax_Liens  Credit_Utilization  \n",
       "0              16056.0           0.0        0.0         1605.600000  \n",
       "1              19149.0           0.0        0.0         1126.411765  \n",
       "2              28335.0           0.0        0.0         5667.000000  \n",
       "3              43915.0           0.0        0.0         4879.444444  \n",
       "4              37081.0           0.0        0.0         3090.083333  "
      ]
     },
     "execution_count": 75,
     "metadata": {},
     "output_type": "execute_result"
    }
   ],
   "source": [
    "df.head()"
   ]
  },
  {
   "cell_type": "code",
   "execution_count": 76,
   "metadata": {
    "collapsed": false
   },
   "outputs": [
    {
     "name": "stdout",
     "output_type": "stream",
     "text": [
      "<class 'pandas.core.frame.DataFrame'>\n",
      "Int64Index: 215246 entries, 0 to 256983\n",
      "Data columns (total 20 columns):\n",
      "Loan_ID                         215246 non-null object\n",
      "Customer_ID                     215246 non-null object\n",
      "Loan_Status                     215246 non-null int32\n",
      "Current_Loan_Amount             215246 non-null int64\n",
      "Term                            215246 non-null int32\n",
      "Credit_Score                    160344 non-null float64\n",
      "Years_in_current_job            215246 non-null float64\n",
      "Home_Ownership                  215246 non-null object\n",
      "Annual_Income                   215246 non-null float64\n",
      "Purpose                         215246 non-null object\n",
      "Monthly_Debt                    215246 non-null float64\n",
      "Years_of_Credit_History         215246 non-null float64\n",
      "Months_since_last_delinquent    96988 non-null float64\n",
      "Number_of_Open_Accounts         215246 non-null int64\n",
      "Number_of_Credit_Problems       215246 non-null int64\n",
      "Current_Credit_Balance          215246 non-null int64\n",
      "Maximum_Open_Credit             215246 non-null float64\n",
      "Bankruptcies                    215246 non-null float64\n",
      "Tax_Liens                       215246 non-null float64\n",
      "Credit_Utilization              215243 non-null float64\n",
      "dtypes: float64(10), int32(2), int64(4), object(4)\n",
      "memory usage: 32.8+ MB\n"
     ]
    }
   ],
   "source": [
    "df.info()"
   ]
  },
  {
   "cell_type": "code",
   "execution_count": 77,
   "metadata": {
    "collapsed": true
   },
   "outputs": [],
   "source": [
    "#dummies=pd.get_dummies(df,columns=[''],drop_first=True)\n",
    "#df_train=pd.merge(df_train,Pclass_dummies_train,left_index=True, right_index=True)"
   ]
  },
  {
   "cell_type": "code",
   "execution_count": 78,
   "metadata": {
    "collapsed": false
   },
   "outputs": [],
   "source": [
    "df=df.dropna(subset=['Credit_Utilization'])"
   ]
  },
  {
   "cell_type": "code",
   "execution_count": 79,
   "metadata": {
    "collapsed": false
   },
   "outputs": [
    {
     "name": "stdout",
     "output_type": "stream",
     "text": [
      "<class 'pandas.core.frame.DataFrame'>\n",
      "Int64Index: 215243 entries, 0 to 256983\n",
      "Data columns (total 20 columns):\n",
      "Loan_ID                         215243 non-null object\n",
      "Customer_ID                     215243 non-null object\n",
      "Loan_Status                     215243 non-null int32\n",
      "Current_Loan_Amount             215243 non-null int64\n",
      "Term                            215243 non-null int32\n",
      "Credit_Score                    160343 non-null float64\n",
      "Years_in_current_job            215243 non-null float64\n",
      "Home_Ownership                  215243 non-null object\n",
      "Annual_Income                   215243 non-null float64\n",
      "Purpose                         215243 non-null object\n",
      "Monthly_Debt                    215243 non-null float64\n",
      "Years_of_Credit_History         215243 non-null float64\n",
      "Months_since_last_delinquent    96986 non-null float64\n",
      "Number_of_Open_Accounts         215243 non-null int64\n",
      "Number_of_Credit_Problems       215243 non-null int64\n",
      "Current_Credit_Balance          215243 non-null int64\n",
      "Maximum_Open_Credit             215243 non-null float64\n",
      "Bankruptcies                    215243 non-null float64\n",
      "Tax_Liens                       215243 non-null float64\n",
      "Credit_Utilization              215243 non-null float64\n",
      "dtypes: float64(10), int32(2), int64(4), object(4)\n",
      "memory usage: 32.8+ MB\n"
     ]
    }
   ],
   "source": [
    "df.info()"
   ]
  },
  {
   "cell_type": "code",
   "execution_count": 80,
   "metadata": {
    "collapsed": true
   },
   "outputs": [],
   "source": [
    "ridge_credit=df[['Credit_Score','Years_of_Credit_History','Number_of_Open_Accounts','Number_of_Credit_Problems',\n",
    "                'Bankruptcies','Tax_Liens','Credit_Utilization']]"
   ]
  },
  {
   "cell_type": "code",
   "execution_count": 81,
   "metadata": {
    "collapsed": false
   },
   "outputs": [],
   "source": [
    "ridge_credit_train=ridge_credit[ridge_credit.Credit_Score.notnull()]"
   ]
  },
  {
   "cell_type": "code",
   "execution_count": 82,
   "metadata": {
    "collapsed": true
   },
   "outputs": [],
   "source": [
    "ridge_credit_test=ridge_credit[ridge_credit.Credit_Score.isnull()]"
   ]
  },
  {
   "cell_type": "code",
   "execution_count": 83,
   "metadata": {
    "collapsed": false
   },
   "outputs": [],
   "source": [
    "X_ridge_credit_train=ridge_credit_train.ix[:,1:]\n",
    "y_ridge_credit_train=ridge_credit_train.ix[:,0]"
   ]
  },
  {
   "cell_type": "code",
   "execution_count": 84,
   "metadata": {
    "collapsed": false
   },
   "outputs": [
    {
     "data": {
      "text/plain": [
       "Ridge(alpha=1, copy_X=True, fit_intercept=True, max_iter=None, normalize=True,\n",
       "   random_state=None, solver='auto', tol=0.001)"
      ]
     },
     "execution_count": 84,
     "metadata": {},
     "output_type": "execute_result"
    }
   ],
   "source": [
    "ridgereg.fit(X_ridge_credit_train,y_ridge_credit_train)"
   ]
  },
  {
   "cell_type": "code",
   "execution_count": 85,
   "metadata": {
    "collapsed": true
   },
   "outputs": [],
   "source": [
    "ridge_predict_credit=ridgereg.predict(ridge_credit_test.ix[:,1:])"
   ]
  },
  {
   "cell_type": "code",
   "execution_count": 86,
   "metadata": {
    "collapsed": true
   },
   "outputs": [],
   "source": [
    "ridge_predict_credit=ridge_predict_credit.ravel()"
   ]
  },
  {
   "cell_type": "code",
   "execution_count": 87,
   "metadata": {
    "collapsed": true
   },
   "outputs": [],
   "source": [
    "ridge_predict_credit=pd.Series(ridge_predict_credit)"
   ]
  },
  {
   "cell_type": "code",
   "execution_count": 88,
   "metadata": {
    "collapsed": false
   },
   "outputs": [],
   "source": [
    "df.loc[df['Credit_Score'].isnull(), 'Credit_Score'] = ridge_predict_credit.reindex(np.arange(df['Credit_Score'].isnull().sum())).values"
   ]
  },
  {
   "cell_type": "code",
   "execution_count": 89,
   "metadata": {
    "collapsed": false
   },
   "outputs": [
    {
     "data": {
      "text/plain": [
       "Credit_Score    0\n",
       "dtype: int64"
      ]
     },
     "execution_count": 89,
     "metadata": {},
     "output_type": "execute_result"
    }
   ],
   "source": [
    "df[['Credit_Score']].isnull().sum()"
   ]
  },
  {
   "cell_type": "code",
   "execution_count": 90,
   "metadata": {
    "collapsed": false
   },
   "outputs": [],
   "source": [
    "df_new=df.drop(['Loan_ID','Customer_ID','Months_since_last_delinquent'],axis=1)"
   ]
  },
  {
   "cell_type": "code",
   "execution_count": 91,
   "metadata": {
    "collapsed": false
   },
   "outputs": [
    {
     "name": "stdout",
     "output_type": "stream",
     "text": [
      "<class 'pandas.core.frame.DataFrame'>\n",
      "Int64Index: 215243 entries, 0 to 256983\n",
      "Data columns (total 17 columns):\n",
      "Loan_Status                  215243 non-null int32\n",
      "Current_Loan_Amount          215243 non-null int64\n",
      "Term                         215243 non-null int32\n",
      "Credit_Score                 215243 non-null float64\n",
      "Years_in_current_job         215243 non-null float64\n",
      "Home_Ownership               215243 non-null object\n",
      "Annual_Income                215243 non-null float64\n",
      "Purpose                      215243 non-null object\n",
      "Monthly_Debt                 215243 non-null float64\n",
      "Years_of_Credit_History      215243 non-null float64\n",
      "Number_of_Open_Accounts      215243 non-null int64\n",
      "Number_of_Credit_Problems    215243 non-null int64\n",
      "Current_Credit_Balance       215243 non-null int64\n",
      "Maximum_Open_Credit          215243 non-null float64\n",
      "Bankruptcies                 215243 non-null float64\n",
      "Tax_Liens                    215243 non-null float64\n",
      "Credit_Utilization           215243 non-null float64\n",
      "dtypes: float64(9), int32(2), int64(4), object(2)\n",
      "memory usage: 27.9+ MB\n"
     ]
    }
   ],
   "source": [
    "df_new.info()"
   ]
  },
  {
   "cell_type": "code",
   "execution_count": 92,
   "metadata": {
    "collapsed": false
   },
   "outputs": [],
   "source": [
    "dummies1=pd.get_dummies(df_new['Home_Ownership'],prefix='Ownership',drop_first=True)\n",
    "df_new=pd.merge(df_new,dummies1,left_index=True, right_index=True)\n",
    "dummies2=pd.get_dummies(df_new['Purpose'],prefix='Purpose',drop_first=True)\n",
    "df_new=pd.merge(df_new,dummies2,left_index=True, right_index=True)"
   ]
  },
  {
   "cell_type": "code",
   "execution_count": 93,
   "metadata": {
    "collapsed": false
   },
   "outputs": [],
   "source": [
    "df_new=df_new.drop(['Home_Ownership','Purpose'],axis=1)"
   ]
  },
  {
   "cell_type": "code",
   "execution_count": 94,
   "metadata": {
    "collapsed": false
   },
   "outputs": [
    {
     "data": {
      "text/html": [
       "<div>\n",
       "<table border=\"1\" class=\"dataframe\">\n",
       "  <thead>\n",
       "    <tr style=\"text-align: right;\">\n",
       "      <th></th>\n",
       "      <th>Loan_Status</th>\n",
       "      <th>Current_Loan_Amount</th>\n",
       "      <th>Term</th>\n",
       "      <th>Credit_Score</th>\n",
       "      <th>Years_in_current_job</th>\n",
       "      <th>Annual_Income</th>\n",
       "      <th>Monthly_Debt</th>\n",
       "      <th>Years_of_Credit_History</th>\n",
       "      <th>Number_of_Open_Accounts</th>\n",
       "      <th>Number_of_Credit_Problems</th>\n",
       "      <th>...</th>\n",
       "      <th>Ownership_Own Home</th>\n",
       "      <th>Ownership_Rent</th>\n",
       "      <th>Purpose_Buy House</th>\n",
       "      <th>Purpose_Buy a Car</th>\n",
       "      <th>Purpose_Debt Consolidation</th>\n",
       "      <th>Purpose_Educational Expenses</th>\n",
       "      <th>Purpose_Home Improvements</th>\n",
       "      <th>Purpose_Medical Bills</th>\n",
       "      <th>Purpose_Other</th>\n",
       "      <th>Purpose_Take a Trip</th>\n",
       "    </tr>\n",
       "  </thead>\n",
       "  <tbody>\n",
       "    <tr>\n",
       "      <th>0</th>\n",
       "      <td>1</td>\n",
       "      <td>11520</td>\n",
       "      <td>0</td>\n",
       "      <td>741.0</td>\n",
       "      <td>11.0</td>\n",
       "      <td>33694.0</td>\n",
       "      <td>584.03</td>\n",
       "      <td>12.3</td>\n",
       "      <td>10</td>\n",
       "      <td>0</td>\n",
       "      <td>...</td>\n",
       "      <td>0.0</td>\n",
       "      <td>0.0</td>\n",
       "      <td>0.0</td>\n",
       "      <td>0.0</td>\n",
       "      <td>1.0</td>\n",
       "      <td>0.0</td>\n",
       "      <td>0.0</td>\n",
       "      <td>0.0</td>\n",
       "      <td>0.0</td>\n",
       "      <td>0.0</td>\n",
       "    </tr>\n",
       "    <tr>\n",
       "      <th>1</th>\n",
       "      <td>1</td>\n",
       "      <td>3441</td>\n",
       "      <td>0</td>\n",
       "      <td>734.0</td>\n",
       "      <td>4.0</td>\n",
       "      <td>42269.0</td>\n",
       "      <td>1106.04</td>\n",
       "      <td>26.3</td>\n",
       "      <td>17</td>\n",
       "      <td>0</td>\n",
       "      <td>...</td>\n",
       "      <td>0.0</td>\n",
       "      <td>0.0</td>\n",
       "      <td>0.0</td>\n",
       "      <td>0.0</td>\n",
       "      <td>0.0</td>\n",
       "      <td>0.0</td>\n",
       "      <td>0.0</td>\n",
       "      <td>0.0</td>\n",
       "      <td>1.0</td>\n",
       "      <td>0.0</td>\n",
       "    </tr>\n",
       "    <tr>\n",
       "      <th>2</th>\n",
       "      <td>1</td>\n",
       "      <td>21029</td>\n",
       "      <td>0</td>\n",
       "      <td>747.0</td>\n",
       "      <td>11.0</td>\n",
       "      <td>90126.0</td>\n",
       "      <td>1321.85</td>\n",
       "      <td>28.8</td>\n",
       "      <td>5</td>\n",
       "      <td>0</td>\n",
       "      <td>...</td>\n",
       "      <td>0.0</td>\n",
       "      <td>0.0</td>\n",
       "      <td>0.0</td>\n",
       "      <td>0.0</td>\n",
       "      <td>1.0</td>\n",
       "      <td>0.0</td>\n",
       "      <td>0.0</td>\n",
       "      <td>0.0</td>\n",
       "      <td>0.0</td>\n",
       "      <td>0.0</td>\n",
       "    </tr>\n",
       "    <tr>\n",
       "      <th>3</th>\n",
       "      <td>1</td>\n",
       "      <td>18743</td>\n",
       "      <td>0</td>\n",
       "      <td>747.0</td>\n",
       "      <td>11.0</td>\n",
       "      <td>38072.0</td>\n",
       "      <td>751.92</td>\n",
       "      <td>26.2</td>\n",
       "      <td>9</td>\n",
       "      <td>0</td>\n",
       "      <td>...</td>\n",
       "      <td>1.0</td>\n",
       "      <td>0.0</td>\n",
       "      <td>0.0</td>\n",
       "      <td>0.0</td>\n",
       "      <td>1.0</td>\n",
       "      <td>0.0</td>\n",
       "      <td>0.0</td>\n",
       "      <td>0.0</td>\n",
       "      <td>0.0</td>\n",
       "      <td>0.0</td>\n",
       "    </tr>\n",
       "    <tr>\n",
       "      <th>4</th>\n",
       "      <td>1</td>\n",
       "      <td>11731</td>\n",
       "      <td>0</td>\n",
       "      <td>746.0</td>\n",
       "      <td>4.0</td>\n",
       "      <td>50025.0</td>\n",
       "      <td>355.18</td>\n",
       "      <td>11.5</td>\n",
       "      <td>12</td>\n",
       "      <td>0</td>\n",
       "      <td>...</td>\n",
       "      <td>0.0</td>\n",
       "      <td>1.0</td>\n",
       "      <td>0.0</td>\n",
       "      <td>0.0</td>\n",
       "      <td>1.0</td>\n",
       "      <td>0.0</td>\n",
       "      <td>0.0</td>\n",
       "      <td>0.0</td>\n",
       "      <td>0.0</td>\n",
       "      <td>0.0</td>\n",
       "    </tr>\n",
       "  </tbody>\n",
       "</table>\n",
       "<p>5 rows × 25 columns</p>\n",
       "</div>"
      ],
      "text/plain": [
       "   Loan_Status  Current_Loan_Amount  Term  Credit_Score  Years_in_current_job  \\\n",
       "0            1                11520     0         741.0                  11.0   \n",
       "1            1                 3441     0         734.0                   4.0   \n",
       "2            1                21029     0         747.0                  11.0   \n",
       "3            1                18743     0         747.0                  11.0   \n",
       "4            1                11731     0         746.0                   4.0   \n",
       "\n",
       "   Annual_Income  Monthly_Debt  Years_of_Credit_History  \\\n",
       "0        33694.0        584.03                     12.3   \n",
       "1        42269.0       1106.04                     26.3   \n",
       "2        90126.0       1321.85                     28.8   \n",
       "3        38072.0        751.92                     26.2   \n",
       "4        50025.0        355.18                     11.5   \n",
       "\n",
       "   Number_of_Open_Accounts  Number_of_Credit_Problems         ...           \\\n",
       "0                       10                          0         ...            \n",
       "1                       17                          0         ...            \n",
       "2                        5                          0         ...            \n",
       "3                        9                          0         ...            \n",
       "4                       12                          0         ...            \n",
       "\n",
       "   Ownership_Own Home  Ownership_Rent  Purpose_Buy House  Purpose_Buy a Car  \\\n",
       "0                 0.0             0.0                0.0                0.0   \n",
       "1                 0.0             0.0                0.0                0.0   \n",
       "2                 0.0             0.0                0.0                0.0   \n",
       "3                 1.0             0.0                0.0                0.0   \n",
       "4                 0.0             1.0                0.0                0.0   \n",
       "\n",
       "   Purpose_Debt Consolidation  Purpose_Educational Expenses  \\\n",
       "0                         1.0                           0.0   \n",
       "1                         0.0                           0.0   \n",
       "2                         1.0                           0.0   \n",
       "3                         1.0                           0.0   \n",
       "4                         1.0                           0.0   \n",
       "\n",
       "   Purpose_Home Improvements  Purpose_Medical Bills  Purpose_Other  \\\n",
       "0                        0.0                    0.0            0.0   \n",
       "1                        0.0                    0.0            1.0   \n",
       "2                        0.0                    0.0            0.0   \n",
       "3                        0.0                    0.0            0.0   \n",
       "4                        0.0                    0.0            0.0   \n",
       "\n",
       "   Purpose_Take a Trip  \n",
       "0                  0.0  \n",
       "1                  0.0  \n",
       "2                  0.0  \n",
       "3                  0.0  \n",
       "4                  0.0  \n",
       "\n",
       "[5 rows x 25 columns]"
      ]
     },
     "execution_count": 94,
     "metadata": {},
     "output_type": "execute_result"
    }
   ],
   "source": [
    "df_new.head()"
   ]
  },
  {
   "cell_type": "code",
   "execution_count": 95,
   "metadata": {
    "collapsed": false
   },
   "outputs": [],
   "source": [
    "features = list(df_new.columns[1:])\n",
    "y = df_new['Loan_Status']\n",
    "X = df_new[features]\n"
   ]
  },
  {
   "cell_type": "code",
   "execution_count": 96,
   "metadata": {
    "collapsed": true
   },
   "outputs": [],
   "source": [
    "from sklearn.ensemble import RandomForestClassifier\n",
    "from sklearn.ensemble import GradientBoostingClassifier"
   ]
  },
  {
   "cell_type": "code",
   "execution_count": 97,
   "metadata": {
    "collapsed": true
   },
   "outputs": [],
   "source": [
    "from sklearn.cross_validation import train_test_split\n",
    "X_train, X_test,y_train,y_test = train_test_split(X, y, test_size=0.33, random_state=1)"
   ]
  },
  {
   "cell_type": "code",
   "execution_count": 98,
   "metadata": {
    "collapsed": false
   },
   "outputs": [
    {
     "data": {
      "text/plain": [
       "0.7887823626304008"
      ]
     },
     "execution_count": 98,
     "metadata": {},
     "output_type": "execute_result"
    }
   ],
   "source": [
    "clf_rdf = RandomForestClassifier()\n",
    "clf_rdf=clf_rdf.fit(X_train,y_train)\n",
    "clf_rdf.score(X_test,y_test)"
   ]
  },
  {
   "cell_type": "code",
   "execution_count": 99,
   "metadata": {
    "collapsed": false
   },
   "outputs": [
    {
     "data": {
      "text/plain": [
       "0.81660120229195698"
      ]
     },
     "execution_count": 99,
     "metadata": {},
     "output_type": "execute_result"
    }
   ],
   "source": [
    "clf_gb=GradientBoostingClassifier()\n",
    "clf_gb=clf_gb.fit(X_train,y_train)\n",
    "#gb=clf_gb.predict(X_test)\n",
    "clf_gb.score(X_test,y_test)"
   ]
  },
  {
   "cell_type": "code",
   "execution_count": 100,
   "metadata": {
    "collapsed": true
   },
   "outputs": [],
   "source": [
    "#remove 9999 value in current_loan_amount\n",
    "#Fix the credit ultilization"
   ]
  },
  {
   "cell_type": "code",
   "execution_count": 102,
   "metadata": {
    "collapsed": false
   },
   "outputs": [
    {
     "data": {
      "text/plain": [
       "0.81657304557165178"
      ]
     },
     "execution_count": 102,
     "metadata": {},
     "output_type": "execute_result"
    }
   ],
   "source": [
    "xgb = xgb.XGBClassifier()\n",
    "xgb.fit(X_train, y_train)\n",
    "xgb_predict=xgb.predict(X_test)\n",
    "xgb.score(X_test,y_test)"
   ]
  },
  {
   "cell_type": "code",
   "execution_count": null,
   "metadata": {
    "collapsed": true
   },
   "outputs": [],
   "source": []
  }
 ],
 "metadata": {
  "anaconda-cloud": {},
  "kernelspec": {
   "display_name": "Python [default]",
   "language": "python",
   "name": "python2"
  },
  "language_info": {
   "codemirror_mode": {
    "name": "ipython",
    "version": 2
   },
   "file_extension": ".py",
   "mimetype": "text/x-python",
   "name": "python",
   "nbconvert_exporter": "python",
   "pygments_lexer": "ipython2",
   "version": "2.7.12"
  },
  "nbpresent": {
   "slides": {
    "0416a6e1-2dd7-4b48-bad6-1b568d4521f8": {
     "id": "0416a6e1-2dd7-4b48-bad6-1b568d4521f8",
     "prev": "3a5ab68d-54e2-44bb-8352-ac442fddf9f1",
     "regions": {
      "d4a23d93-1241-4749-926f-56e332b8afad": {
       "attrs": {
        "height": 0.8,
        "width": 0.8,
        "x": 0.1,
        "y": 0.1
       },
       "content": {
        "cell": "1681e194-d191-4c0f-ae0f-1684448cd476",
        "part": "whole"
       },
       "id": "d4a23d93-1241-4749-926f-56e332b8afad"
      }
     }
    },
    "092838fd-71d7-4136-a84c-164587adba01": {
     "id": "092838fd-71d7-4136-a84c-164587adba01",
     "prev": "87958853-df83-448f-a9be-d1f76285bdbb",
     "regions": {
      "4a703034-90d9-4bce-8338-ce414e871b69": {
       "attrs": {
        "height": 0.8,
        "width": 0.8,
        "x": 0.1,
        "y": 0.1
       },
       "content": {
        "cell": "d5ff1dc2-7b26-4ea2-a027-491be82571ab",
        "part": "whole"
       },
       "id": "4a703034-90d9-4bce-8338-ce414e871b69"
      }
     }
    },
    "0ce78adf-8635-4eb9-bd52-b1d40d425200": {
     "id": "0ce78adf-8635-4eb9-bd52-b1d40d425200",
     "prev": "d716765a-1c64-4bed-8495-d236de4b1063",
     "regions": {
      "09bf9ad7-e21c-4ce8-ab72-cf5cbb3328d6": {
       "attrs": {
        "height": 0.8,
        "width": 0.8,
        "x": 0.1,
        "y": 0.1
       },
       "content": {
        "cell": "81803b2b-fb84-4016-b194-54c6072df973",
        "part": "whole"
       },
       "id": "09bf9ad7-e21c-4ce8-ab72-cf5cbb3328d6"
      }
     }
    },
    "109432e6-5118-4e01-a71d-0d9f42f57d5f": {
     "id": "109432e6-5118-4e01-a71d-0d9f42f57d5f",
     "prev": "092838fd-71d7-4136-a84c-164587adba01",
     "regions": {
      "d2ca35e6-041f-42b3-b324-95c219009387": {
       "attrs": {
        "height": 0.8,
        "width": 0.8,
        "x": 0.1,
        "y": 0.1
       },
       "content": {
        "cell": "96292972-ea80-4121-b2d3-e32367cd484f",
        "part": "whole"
       },
       "id": "d2ca35e6-041f-42b3-b324-95c219009387"
      }
     }
    },
    "143d588a-abd3-40ea-b5dd-703d70216a43": {
     "id": "143d588a-abd3-40ea-b5dd-703d70216a43",
     "prev": "d6c0f951-4934-481e-a9bc-93dda9ac8320",
     "regions": {
      "8289f0bf-82f7-411e-9ae2-fdf770a6020a": {
       "attrs": {
        "height": 0.8,
        "width": 0.8,
        "x": 0.1,
        "y": 0.1
       },
       "content": {
        "cell": "cd93d2d8-c7d5-4905-aee1-43318739b6c4",
        "part": "whole"
       },
       "id": "8289f0bf-82f7-411e-9ae2-fdf770a6020a"
      }
     }
    },
    "1f29a8d4-248b-4632-b980-30328d414ac7": {
     "id": "1f29a8d4-248b-4632-b980-30328d414ac7",
     "prev": "664fd1d2-304b-4f2d-9263-873e4056f5dd",
     "regions": {
      "f9ab4738-9cc0-41e7-b465-e5fd9d01483d": {
       "attrs": {
        "height": 0.8,
        "width": 0.8,
        "x": 0.1,
        "y": 0.1
       },
       "content": {
        "cell": "b0cf1bba-0546-4ba8-8be3-7ae73060fbdf",
        "part": "whole"
       },
       "id": "f9ab4738-9cc0-41e7-b465-e5fd9d01483d"
      }
     }
    },
    "213dedcb-6dc9-42ac-8cce-9f8b843e2109": {
     "id": "213dedcb-6dc9-42ac-8cce-9f8b843e2109",
     "prev": "72f96cf1-e1db-48cd-8589-1b42208bf6a9",
     "regions": {
      "eba76414-7ead-4a10-9876-31ada5bdeca7": {
       "attrs": {
        "height": 0.8,
        "width": 0.8,
        "x": 0.1,
        "y": 0.1
       },
       "content": {
        "cell": "386be534-b7d4-49a7-b5d5-7fd0fd1d8a98",
        "part": "whole"
       },
       "id": "eba76414-7ead-4a10-9876-31ada5bdeca7"
      }
     }
    },
    "23b44708-e973-452a-a94d-d0c1da34d25e": {
     "id": "23b44708-e973-452a-a94d-d0c1da34d25e",
     "prev": "0ce78adf-8635-4eb9-bd52-b1d40d425200",
     "regions": {
      "477ea626-784b-4f04-b562-d0c36b1f3091": {
       "attrs": {
        "height": 0.8,
        "width": 0.8,
        "x": 0.1,
        "y": 0.1
       },
       "content": {
        "cell": "4f6d7094-b6cc-47bc-86c7-d391df7ed46b",
        "part": "whole"
       },
       "id": "477ea626-784b-4f04-b562-d0c36b1f3091"
      }
     }
    },
    "25ceccfd-6a7d-451a-b901-bd491150f4ad": {
     "id": "25ceccfd-6a7d-451a-b901-bd491150f4ad",
     "prev": "c1868051-70fc-4a85-bdea-c1eaac322aba",
     "regions": {
      "f14062cc-eb14-488a-9477-ca8bf621e1b1": {
       "attrs": {
        "height": 0.8,
        "width": 0.8,
        "x": 0.1,
        "y": 0.1
       },
       "content": {
        "cell": "0760e65a-bea5-4c15-baa2-787cf39d5328",
        "part": "whole"
       },
       "id": "f14062cc-eb14-488a-9477-ca8bf621e1b1"
      }
     }
    },
    "3a5ab68d-54e2-44bb-8352-ac442fddf9f1": {
     "id": "3a5ab68d-54e2-44bb-8352-ac442fddf9f1",
     "prev": "aeb2b107-83fc-4812-b622-e06e5c29f853",
     "regions": {
      "d2e7cf98-fcbd-4e1a-b109-71356b405d76": {
       "attrs": {
        "height": 0.8,
        "width": 0.8,
        "x": 0.1,
        "y": 0.1
       },
       "content": {
        "cell": "916d3c3c-0f9e-4b44-b9d4-b7dacd7ab5a9",
        "part": "whole"
       },
       "id": "d2e7cf98-fcbd-4e1a-b109-71356b405d76"
      }
     }
    },
    "3efca46a-698b-4e72-b559-77dbcf7c16ee": {
     "id": "3efca46a-698b-4e72-b559-77dbcf7c16ee",
     "prev": null,
     "regions": {
      "3a530589-b00f-4cf6-99ff-3513cd4e4e82": {
       "attrs": {
        "height": 0.8,
        "width": 0.8,
        "x": 0.1,
        "y": 0.1
       },
       "content": {
        "cell": "4e17d371-cad3-4df0-bbc0-d9307a857d30",
        "part": "whole"
       },
       "id": "3a530589-b00f-4cf6-99ff-3513cd4e4e82"
      }
     }
    },
    "51f79366-8443-4f8b-9104-7a99925cb29b": {
     "id": "51f79366-8443-4f8b-9104-7a99925cb29b",
     "prev": "8ce61bc8-1a23-4b01-ba57-0ed241f7c9e5",
     "regions": {
      "b3ef0b2e-38a1-4a5d-97b5-c3f963930467": {
       "attrs": {
        "height": 0.8,
        "width": 0.8,
        "x": 0.1,
        "y": 0.1
       },
       "content": {
        "cell": "81d9970d-0b6b-403f-ab12-677c2a551e4d",
        "part": "whole"
       },
       "id": "b3ef0b2e-38a1-4a5d-97b5-c3f963930467"
      }
     }
    },
    "52c2b7ff-6aa8-4895-a24b-f9c449a68e4b": {
     "id": "52c2b7ff-6aa8-4895-a24b-f9c449a68e4b",
     "prev": "9e884d0f-040d-4d0e-8d54-3c8641814e87",
     "regions": {
      "1469bad1-e8ba-49b9-8692-f212ad0ee701": {
       "attrs": {
        "height": 0.8,
        "width": 0.8,
        "x": 0.1,
        "y": 0.1
       },
       "content": {
        "cell": "a3467b54-889b-4216-8d98-b4acca617e93",
        "part": "whole"
       },
       "id": "1469bad1-e8ba-49b9-8692-f212ad0ee701"
      }
     }
    },
    "58cc99b2-5a1c-4ea9-92df-3d75677a67a7": {
     "id": "58cc99b2-5a1c-4ea9-92df-3d75677a67a7",
     "prev": "acaaac19-d7c6-4ff6-8c47-e35125919f5d",
     "regions": {
      "45fbb81b-3c85-4755-a230-99718de69d33": {
       "attrs": {
        "height": 0.8,
        "width": 0.8,
        "x": 0.1,
        "y": 0.1
       },
       "content": {
        "cell": "264108d4-a1be-4282-806b-bc4db794543d",
        "part": "whole"
       },
       "id": "45fbb81b-3c85-4755-a230-99718de69d33"
      }
     }
    },
    "60acbd48-ff2b-4cea-9bbf-89e8ef2f9537": {
     "id": "60acbd48-ff2b-4cea-9bbf-89e8ef2f9537",
     "prev": "3efca46a-698b-4e72-b559-77dbcf7c16ee",
     "regions": {
      "ee10558a-9eb3-43fa-8dd9-c71832fff18a": {
       "attrs": {
        "height": 0.8,
        "width": 0.8,
        "x": 0.1,
        "y": 0.1
       },
       "content": {
        "cell": "87e2bf35-ad3c-4fb4-bf25-accdc1721c49",
        "part": "whole"
       },
       "id": "ee10558a-9eb3-43fa-8dd9-c71832fff18a"
      }
     }
    },
    "664fd1d2-304b-4f2d-9263-873e4056f5dd": {
     "id": "664fd1d2-304b-4f2d-9263-873e4056f5dd",
     "prev": "23b44708-e973-452a-a94d-d0c1da34d25e",
     "regions": {
      "321af56c-c15b-4617-a77f-109dafa9a432": {
       "attrs": {
        "height": 0.8,
        "width": 0.8,
        "x": 0.1,
        "y": 0.1
       },
       "content": {
        "cell": "9637d5cd-3af1-45af-a44c-217c113104ec",
        "part": "whole"
       },
       "id": "321af56c-c15b-4617-a77f-109dafa9a432"
      }
     }
    },
    "6f8ea1bf-4dfc-4d16-b6c1-99075f551849": {
     "id": "6f8ea1bf-4dfc-4d16-b6c1-99075f551849",
     "prev": "98a287f0-2945-423e-b185-61dec49dd2fc",
     "regions": {
      "b261d92f-7650-426b-a539-2df561426e1f": {
       "attrs": {
        "height": 0.8,
        "width": 0.8,
        "x": 0.1,
        "y": 0.1
       },
       "content": {
        "cell": "38d1e651-6757-4a3a-9041-03a8b77a8189",
        "part": "whole"
       },
       "id": "b261d92f-7650-426b-a539-2df561426e1f"
      }
     }
    },
    "707c1d1d-9043-4c84-9209-1b9172d11582": {
     "id": "707c1d1d-9043-4c84-9209-1b9172d11582",
     "prev": "bc640948-4f19-4a34-a99c-d53c4b12b44a",
     "regions": {
      "1515d9ce-6496-4de8-be69-23678ab09d00": {
       "attrs": {
        "height": 0.8,
        "width": 0.8,
        "x": 0.1,
        "y": 0.1
       },
       "content": {
        "cell": "11b0b710-047b-4fd5-b672-7ba71a94c0a5",
        "part": "whole"
       },
       "id": "1515d9ce-6496-4de8-be69-23678ab09d00"
      }
     }
    },
    "72f96cf1-e1db-48cd-8589-1b42208bf6a9": {
     "id": "72f96cf1-e1db-48cd-8589-1b42208bf6a9",
     "prev": "bd2f8cb7-2150-435d-a56d-64116a7ea51e",
     "regions": {
      "72bfc74f-9c13-43a4-a712-4b26d980f999": {
       "attrs": {
        "height": 0.8,
        "width": 0.8,
        "x": 0.1,
        "y": 0.1
       },
       "content": {
        "cell": "0963de96-4fc7-4af1-a8be-bc45b730cb5f",
        "part": "whole"
       },
       "id": "72bfc74f-9c13-43a4-a712-4b26d980f999"
      }
     }
    },
    "87958853-df83-448f-a9be-d1f76285bdbb": {
     "id": "87958853-df83-448f-a9be-d1f76285bdbb",
     "prev": "e7d51a60-5642-4568-a35e-238ac83c6922",
     "regions": {
      "94ea72e5-e793-48c7-80d5-5ae205e84337": {
       "attrs": {
        "height": 0.8,
        "width": 0.8,
        "x": 0.1,
        "y": 0.1
       },
       "content": {
        "cell": "2a5ed51b-9af7-49f5-b121-33a6a6c4eeb3",
        "part": "whole"
       },
       "id": "94ea72e5-e793-48c7-80d5-5ae205e84337"
      }
     }
    },
    "8ce61bc8-1a23-4b01-ba57-0ed241f7c9e5": {
     "id": "8ce61bc8-1a23-4b01-ba57-0ed241f7c9e5",
     "prev": "6f8ea1bf-4dfc-4d16-b6c1-99075f551849",
     "regions": {
      "feb2d2b4-a363-49fc-bfa0-c64afe9a522a": {
       "attrs": {
        "height": 0.8,
        "width": 0.8,
        "x": 0.1,
        "y": 0.1
       },
       "content": {
        "cell": "73c92813-74a4-4f95-9b93-3813f91dcf0e",
        "part": "whole"
       },
       "id": "feb2d2b4-a363-49fc-bfa0-c64afe9a522a"
      }
     }
    },
    "8e3d4fbc-1870-4cc3-a3a9-1c08c7626c26": {
     "id": "8e3d4fbc-1870-4cc3-a3a9-1c08c7626c26",
     "prev": "e60c074b-0cc9-4c05-be67-b75076371ac8",
     "regions": {
      "08011951-ec8c-4e3c-b420-af25bbe066a9": {
       "attrs": {
        "height": 0.8,
        "width": 0.8,
        "x": 0.1,
        "y": 0.1
       },
       "content": {
        "cell": "86a55502-ad3f-4cb3-a32e-d7bdbbd4aeeb",
        "part": "whole"
       },
       "id": "08011951-ec8c-4e3c-b420-af25bbe066a9"
      }
     }
    },
    "98a287f0-2945-423e-b185-61dec49dd2fc": {
     "id": "98a287f0-2945-423e-b185-61dec49dd2fc",
     "prev": "ba4a0c00-3327-4ce2-bcc8-4851efd548ca",
     "regions": {
      "3f8c5c3e-3a71-4be9-b6be-9c3fb66fc8d5": {
       "attrs": {
        "height": 0.8,
        "width": 0.8,
        "x": 0.1,
        "y": 0.1
       },
       "content": {
        "cell": "f65ad287-583e-403f-8a25-4d2cc3ee6766",
        "part": "whole"
       },
       "id": "3f8c5c3e-3a71-4be9-b6be-9c3fb66fc8d5"
      }
     }
    },
    "9e884d0f-040d-4d0e-8d54-3c8641814e87": {
     "id": "9e884d0f-040d-4d0e-8d54-3c8641814e87",
     "prev": "109432e6-5118-4e01-a71d-0d9f42f57d5f",
     "regions": {
      "d0347009-b8d8-4063-91df-5d0f6dd66caf": {
       "attrs": {
        "height": 0.8,
        "width": 0.8,
        "x": 0.1,
        "y": 0.1
       },
       "content": {
        "cell": "93a251c4-5c61-482c-a58b-2ccbfdab8055",
        "part": "whole"
       },
       "id": "d0347009-b8d8-4063-91df-5d0f6dd66caf"
      }
     }
    },
    "a571030b-5f31-405c-a487-68ad67c8a0ce": {
     "id": "a571030b-5f31-405c-a487-68ad67c8a0ce",
     "prev": "a7fbad8b-2799-4f65-81d1-aa6cd2624a48",
     "regions": {
      "c5f5d8b9-330e-49dc-a5d6-06261a8101cd": {
       "attrs": {
        "height": 0.8,
        "width": 0.8,
        "x": 0.1,
        "y": 0.1
       },
       "content": {
        "cell": "896502a1-e78e-48de-88ac-4e757a65c37b",
        "part": "whole"
       },
       "id": "c5f5d8b9-330e-49dc-a5d6-06261a8101cd"
      }
     }
    },
    "a7fbad8b-2799-4f65-81d1-aa6cd2624a48": {
     "id": "a7fbad8b-2799-4f65-81d1-aa6cd2624a48",
     "prev": "213dedcb-6dc9-42ac-8cce-9f8b843e2109",
     "regions": {
      "75ef8294-090c-4bab-b873-d80016a2701c": {
       "attrs": {
        "height": 0.8,
        "width": 0.8,
        "x": 0.1,
        "y": 0.1
       },
       "content": {
        "cell": "017db261-2c88-4ddf-8ea0-5d95243f0569",
        "part": "whole"
       },
       "id": "75ef8294-090c-4bab-b873-d80016a2701c"
      }
     }
    },
    "acaaac19-d7c6-4ff6-8c47-e35125919f5d": {
     "id": "acaaac19-d7c6-4ff6-8c47-e35125919f5d",
     "prev": "ff0ce20e-0327-4a8b-8bab-08822e55a7b5",
     "regions": {
      "9b9754a8-a17b-464d-b34d-5200b12a17d5": {
       "attrs": {
        "height": 0.8,
        "width": 0.8,
        "x": 0.1,
        "y": 0.1
       },
       "content": {
        "cell": "51d237f3-08a2-4b1b-abe5-02e8e99fe64c",
        "part": "whole"
       },
       "id": "9b9754a8-a17b-464d-b34d-5200b12a17d5"
      }
     }
    },
    "aeb2b107-83fc-4812-b622-e06e5c29f853": {
     "id": "aeb2b107-83fc-4812-b622-e06e5c29f853",
     "prev": "a571030b-5f31-405c-a487-68ad67c8a0ce",
     "regions": {
      "73809221-8b7f-4cf2-a420-76922f5d81e4": {
       "attrs": {
        "height": 0.8,
        "width": 0.8,
        "x": 0.1,
        "y": 0.1
       },
       "content": {
        "cell": "22dcdd17-b441-438b-a5cf-71e2a799ab69",
        "part": "whole"
       },
       "id": "73809221-8b7f-4cf2-a420-76922f5d81e4"
      }
     }
    },
    "ba4a0c00-3327-4ce2-bcc8-4851efd548ca": {
     "id": "ba4a0c00-3327-4ce2-bcc8-4851efd548ca",
     "prev": "db8749c2-86ce-43e1-99c1-69a6e56f7235",
     "regions": {
      "f5e0cc22-a32f-48b8-a24a-6875c86d064a": {
       "attrs": {
        "height": 0.8,
        "width": 0.8,
        "x": 0.1,
        "y": 0.1
       },
       "content": {
        "cell": "29af9402-5748-49b3-9c74-2155af00ec03",
        "part": "whole"
       },
       "id": "f5e0cc22-a32f-48b8-a24a-6875c86d064a"
      }
     }
    },
    "bc640948-4f19-4a34-a99c-d53c4b12b44a": {
     "id": "bc640948-4f19-4a34-a99c-d53c4b12b44a",
     "prev": "143d588a-abd3-40ea-b5dd-703d70216a43",
     "regions": {
      "1c01760e-c4a2-45e5-9703-5400847bbe4e": {
       "attrs": {
        "height": 0.8,
        "width": 0.8,
        "x": 0.1,
        "y": 0.1
       },
       "content": {
        "cell": "d30dcfdf-0d0b-425f-9cc2-ac795fbec9e6",
        "part": "whole"
       },
       "id": "1c01760e-c4a2-45e5-9703-5400847bbe4e"
      }
     }
    },
    "bd2f8cb7-2150-435d-a56d-64116a7ea51e": {
     "id": "bd2f8cb7-2150-435d-a56d-64116a7ea51e",
     "prev": "707c1d1d-9043-4c84-9209-1b9172d11582",
     "regions": {
      "3a02f198-37f9-4f17-9a82-4d387f406cb2": {
       "attrs": {
        "height": 0.8,
        "width": 0.8,
        "x": 0.1,
        "y": 0.1
       },
       "content": {
        "cell": "a93cb99c-bc22-4104-b2de-ad0aa53dbb00",
        "part": "whole"
       },
       "id": "3a02f198-37f9-4f17-9a82-4d387f406cb2"
      }
     }
    },
    "c156b4cf-b10e-431d-9ccf-6b9fe4ebc462": {
     "id": "c156b4cf-b10e-431d-9ccf-6b9fe4ebc462",
     "prev": "0416a6e1-2dd7-4b48-bad6-1b568d4521f8",
     "regions": {}
    },
    "c1868051-70fc-4a85-bdea-c1eaac322aba": {
     "id": "c1868051-70fc-4a85-bdea-c1eaac322aba",
     "prev": "1f29a8d4-248b-4632-b980-30328d414ac7",
     "regions": {
      "9321ef1f-49f3-4d9f-9c69-f7f34efa2019": {
       "attrs": {
        "height": 0.8,
        "width": 0.8,
        "x": 0.1,
        "y": 0.1
       },
       "content": {
        "cell": "87435de3-f79a-4dd4-be2f-19a6e8e7254d",
        "part": "whole"
       },
       "id": "9321ef1f-49f3-4d9f-9c69-f7f34efa2019"
      }
     }
    },
    "ca93fa20-ba27-48ef-8fef-6ba259e0fb42": {
     "id": "ca93fa20-ba27-48ef-8fef-6ba259e0fb42",
     "prev": "25ceccfd-6a7d-451a-b901-bd491150f4ad",
     "regions": {
      "636baa11-0be1-4b7b-8dba-40e959bb2791": {
       "attrs": {
        "height": 0.8,
        "width": 0.8,
        "x": 0.1,
        "y": 0.1
       },
       "content": {
        "cell": "73d9b076-fd92-4d89-8828-6399baf8951d",
        "part": "whole"
       },
       "id": "636baa11-0be1-4b7b-8dba-40e959bb2791"
      }
     }
    },
    "d5db84d5-32fd-4962-bf24-618f9808d62e": {
     "id": "d5db84d5-32fd-4962-bf24-618f9808d62e",
     "prev": "c156b4cf-b10e-431d-9ccf-6b9fe4ebc462",
     "regions": {
      "1ab09008-5fe8-421f-95bd-7c1f85504049": {
       "attrs": {
        "height": 0.8,
        "width": 0.8,
        "x": 0.1,
        "y": 0.1
       },
       "content": {
        "cell": "93dda43f-e95b-487f-87d1-fcb6e5982058",
        "part": "whole"
       },
       "id": "1ab09008-5fe8-421f-95bd-7c1f85504049"
      }
     }
    },
    "d6c0f951-4934-481e-a9bc-93dda9ac8320": {
     "id": "d6c0f951-4934-481e-a9bc-93dda9ac8320",
     "prev": "f497a73a-6e1b-432d-999c-40f87cb3bea8",
     "regions": {
      "e4a7b711-9459-4cd9-bbc3-c1f72474276d": {
       "attrs": {
        "height": 0.8,
        "width": 0.8,
        "x": 0.1,
        "y": 0.1
       },
       "content": {
        "cell": "eb7a192d-a681-490f-a0ce-50aab971b38c",
        "part": "whole"
       },
       "id": "e4a7b711-9459-4cd9-bbc3-c1f72474276d"
      }
     }
    },
    "d716765a-1c64-4bed-8495-d236de4b1063": {
     "id": "d716765a-1c64-4bed-8495-d236de4b1063",
     "prev": "51f79366-8443-4f8b-9104-7a99925cb29b",
     "regions": {
      "5184d8b1-c0fa-48c4-9e57-3ac0d300203b": {
       "attrs": {
        "height": 0.8,
        "width": 0.8,
        "x": 0.1,
        "y": 0.1
       },
       "content": {
        "cell": "3d4432f5-9c29-4e4c-90c6-eb56802b3bd1",
        "part": "whole"
       },
       "id": "5184d8b1-c0fa-48c4-9e57-3ac0d300203b"
      }
     }
    },
    "db8749c2-86ce-43e1-99c1-69a6e56f7235": {
     "id": "db8749c2-86ce-43e1-99c1-69a6e56f7235",
     "prev": "8e3d4fbc-1870-4cc3-a3a9-1c08c7626c26",
     "regions": {
      "2953a86f-c157-4a06-a058-c4c254bbb093": {
       "attrs": {
        "height": 0.8,
        "width": 0.8,
        "x": 0.1,
        "y": 0.1
       },
       "content": {
        "cell": "7c1e4cde-0f72-44d5-a2bd-c1679c84e312",
        "part": "whole"
       },
       "id": "2953a86f-c157-4a06-a058-c4c254bbb093"
      }
     }
    },
    "e0a2357e-42c9-4984-8447-701c432e887e": {
     "id": "e0a2357e-42c9-4984-8447-701c432e887e",
     "prev": "52c2b7ff-6aa8-4895-a24b-f9c449a68e4b",
     "regions": {
      "835c4d91-ff84-42b4-b0d2-dd5ceae2f253": {
       "attrs": {
        "height": 0.8,
        "width": 0.8,
        "x": 0.1,
        "y": 0.1
       },
       "content": {
        "cell": "7479b498-6e1d-44d9-abec-3164af46a039",
        "part": "whole"
       },
       "id": "835c4d91-ff84-42b4-b0d2-dd5ceae2f253"
      }
     }
    },
    "e60c074b-0cc9-4c05-be67-b75076371ac8": {
     "id": "e60c074b-0cc9-4c05-be67-b75076371ac8",
     "prev": "60acbd48-ff2b-4cea-9bbf-89e8ef2f9537",
     "regions": {
      "dce2d72f-50c4-41c2-9e84-37ca796a533d": {
       "attrs": {
        "height": 0.8,
        "width": 0.8,
        "x": 0.1,
        "y": 0.1
       },
       "content": {
        "cell": "c708efa0-ea75-4846-99d1-154f614a3d66",
        "part": "whole"
       },
       "id": "dce2d72f-50c4-41c2-9e84-37ca796a533d"
      }
     }
    },
    "e7d51a60-5642-4568-a35e-238ac83c6922": {
     "id": "e7d51a60-5642-4568-a35e-238ac83c6922",
     "prev": "ca93fa20-ba27-48ef-8fef-6ba259e0fb42",
     "regions": {
      "9461cd78-cb57-4202-a891-d9c5e495b6ae": {
       "attrs": {
        "height": 0.8,
        "width": 0.8,
        "x": 0.1,
        "y": 0.1
       },
       "content": {
        "cell": "13031031-f4f3-4d1b-ab0a-26260a847277",
        "part": "whole"
       },
       "id": "9461cd78-cb57-4202-a891-d9c5e495b6ae"
      }
     }
    },
    "f497a73a-6e1b-432d-999c-40f87cb3bea8": {
     "id": "f497a73a-6e1b-432d-999c-40f87cb3bea8",
     "prev": "e0a2357e-42c9-4984-8447-701c432e887e",
     "regions": {
      "1bde81c4-08d0-4d47-a006-05c660f35e76": {
       "attrs": {
        "height": 0.8,
        "width": 0.8,
        "x": 0.1,
        "y": 0.1
       },
       "content": {
        "cell": "526b4d52-b2a0-4a4f-bffc-3cee6e8d56f8",
        "part": "whole"
       },
       "id": "1bde81c4-08d0-4d47-a006-05c660f35e76"
      }
     }
    },
    "ff0ce20e-0327-4a8b-8bab-08822e55a7b5": {
     "id": "ff0ce20e-0327-4a8b-8bab-08822e55a7b5",
     "prev": "d5db84d5-32fd-4962-bf24-618f9808d62e",
     "regions": {
      "1d97447a-643b-4edc-87fc-925beaf81c6d": {
       "attrs": {
        "height": 0.8,
        "width": 0.8,
        "x": 0.1,
        "y": 0.1
       },
       "content": {
        "cell": "9759c938-c2da-452c-ae33-1d92bffc4486",
        "part": "whole"
       },
       "id": "1d97447a-643b-4edc-87fc-925beaf81c6d"
      }
     }
    }
   },
   "themes": {}
  }
 },
 "nbformat": 4,
 "nbformat_minor": 1
}
